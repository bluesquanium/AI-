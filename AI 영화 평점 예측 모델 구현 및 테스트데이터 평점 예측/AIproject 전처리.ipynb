{
 "cells": [
  {
   "cell_type": "code",
   "execution_count": 1,
   "metadata": {},
   "outputs": [],
   "source": [
    "import pandas as pd #for data storing\n",
    "from bs4 import BeautifulSoup #for removing html tag\n",
    "import re #regular expression\n",
    "import nltk\n",
    "from nltk.corpus import stopwords #for removing stopwords\n",
    "from nltk.stem.snowball import SnowballStemmer #for making word to stem"
   ]
  },
  {
   "cell_type": "code",
   "execution_count": 2,
   "metadata": {},
   "outputs": [],
   "source": [
    "import tensorflow as tf\n",
    "#서버에서 실행할 때\n",
    "#import os\n",
    "#os.environ['CUDA_VISIBLE_DEVICES'] = '0'\n",
    "#config = tf.ConfigProto()\n",
    "#config.gpu_options.per_process_gpu_memory_fracion = 0.19\n",
    "#session = tf.Session(config=config)\n",
    "import numpy as np\n",
    "import pandas as pd"
   ]
  },
  {
   "cell_type": "markdown",
   "metadata": {},
   "source": [
    "2(C) : 예산\n",
    "3(D) : 장르\n",
    "7(H) : 원작 언어\n",
    "8(I) : 영화 제목\n",
    "9(J) : overview\n",
    "10(K) : 인기도\n",
    "12(M) : production_companies\n",
    "13(N) : production_contries\n",
    "14(O) : 개봉날짜\n",
    "15(P) : 수익\n",
    "22(W) : 평점"
   ]
  },
  {
   "cell_type": "code",
   "execution_count": 3,
   "metadata": {},
   "outputs": [],
   "source": [
    "#movie_train으로부터 데이터 얻어온다\n",
    "movie_train_df = pd.read_csv('E:/STUDY/Source files/python/Inf/data2/movie_train.csv', header=None)\n",
    "movie_test_df = pd.read_csv('E:/STUDY/Source files/python/Inf/data2/movie_test.csv', header=None)"
   ]
  },
  {
   "cell_type": "code",
   "execution_count": 4,
   "metadata": {
    "scrolled": true
   },
   "outputs": [
    {
     "data": {
      "text/html": [
       "<div>\n",
       "<style scoped>\n",
       "    .dataframe tbody tr th:only-of-type {\n",
       "        vertical-align: middle;\n",
       "    }\n",
       "\n",
       "    .dataframe tbody tr th {\n",
       "        vertical-align: top;\n",
       "    }\n",
       "\n",
       "    .dataframe thead th {\n",
       "        text-align: right;\n",
       "    }\n",
       "</style>\n",
       "<table border=\"1\" class=\"dataframe\">\n",
       "  <thead>\n",
       "    <tr style=\"text-align: right;\">\n",
       "      <th></th>\n",
       "      <th>0</th>\n",
       "      <th>1</th>\n",
       "      <th>2</th>\n",
       "      <th>3</th>\n",
       "      <th>4</th>\n",
       "      <th>5</th>\n",
       "      <th>6</th>\n",
       "      <th>7</th>\n",
       "      <th>8</th>\n",
       "      <th>9</th>\n",
       "      <th>...</th>\n",
       "      <th>14</th>\n",
       "      <th>15</th>\n",
       "      <th>16</th>\n",
       "      <th>17</th>\n",
       "      <th>18</th>\n",
       "      <th>19</th>\n",
       "      <th>20</th>\n",
       "      <th>21</th>\n",
       "      <th>22</th>\n",
       "      <th>23</th>\n",
       "    </tr>\n",
       "  </thead>\n",
       "  <tbody>\n",
       "    <tr>\n",
       "      <th>0</th>\n",
       "      <td>False</td>\n",
       "      <td>{'id': 10194, 'name': 'Toy Story Collection', ...</td>\n",
       "      <td>30000000</td>\n",
       "      <td>[{'id': 16, 'name': 'Animation'}, {'id': 35, '...</td>\n",
       "      <td>http://toystory.disney.com/toy-story</td>\n",
       "      <td>862</td>\n",
       "      <td>tt0114709</td>\n",
       "      <td>en</td>\n",
       "      <td>Toy Story</td>\n",
       "      <td>Led by Woody, Andy's toys live happily in his ...</td>\n",
       "      <td>...</td>\n",
       "      <td>1995-10-30</td>\n",
       "      <td>373554033</td>\n",
       "      <td>81.0</td>\n",
       "      <td>[{'iso_639_1': 'en', 'name': 'English'}]</td>\n",
       "      <td>Released</td>\n",
       "      <td>NaN</td>\n",
       "      <td>Toy Story</td>\n",
       "      <td>False</td>\n",
       "      <td>7.7</td>\n",
       "      <td>5415</td>\n",
       "    </tr>\n",
       "    <tr>\n",
       "      <th>1</th>\n",
       "      <td>False</td>\n",
       "      <td>NaN</td>\n",
       "      <td>16000000</td>\n",
       "      <td>[{'id': 35, 'name': 'Comedy'}, {'id': 18, 'nam...</td>\n",
       "      <td>NaN</td>\n",
       "      <td>31357</td>\n",
       "      <td>tt0114885</td>\n",
       "      <td>en</td>\n",
       "      <td>Waiting to Exhale</td>\n",
       "      <td>Cheated on, mistreated and stepped on, the wom...</td>\n",
       "      <td>...</td>\n",
       "      <td>1995-12-22</td>\n",
       "      <td>81452156</td>\n",
       "      <td>127.0</td>\n",
       "      <td>[{'iso_639_1': 'en', 'name': 'English'}]</td>\n",
       "      <td>Released</td>\n",
       "      <td>Friends are the people who let you be yourself...</td>\n",
       "      <td>Waiting to Exhale</td>\n",
       "      <td>False</td>\n",
       "      <td>6.1</td>\n",
       "      <td>34</td>\n",
       "    </tr>\n",
       "    <tr>\n",
       "      <th>2</th>\n",
       "      <td>False</td>\n",
       "      <td>{'id': 96871, 'name': 'Father of the Bride Col...</td>\n",
       "      <td>0</td>\n",
       "      <td>[{'id': 35, 'name': 'Comedy'}]</td>\n",
       "      <td>NaN</td>\n",
       "      <td>11862</td>\n",
       "      <td>tt0113041</td>\n",
       "      <td>en</td>\n",
       "      <td>Father of the Bride Part II</td>\n",
       "      <td>Just when George Banks has recovered from his ...</td>\n",
       "      <td>...</td>\n",
       "      <td>1995-02-10</td>\n",
       "      <td>76578911</td>\n",
       "      <td>106.0</td>\n",
       "      <td>[{'iso_639_1': 'en', 'name': 'English'}]</td>\n",
       "      <td>Released</td>\n",
       "      <td>Just When His World Is Back To Normal... He's ...</td>\n",
       "      <td>Father of the Bride Part II</td>\n",
       "      <td>False</td>\n",
       "      <td>5.7</td>\n",
       "      <td>173</td>\n",
       "    </tr>\n",
       "    <tr>\n",
       "      <th>3</th>\n",
       "      <td>False</td>\n",
       "      <td>NaN</td>\n",
       "      <td>0</td>\n",
       "      <td>[{'id': 28, 'name': 'Action'}, {'id': 12, 'nam...</td>\n",
       "      <td>NaN</td>\n",
       "      <td>45325</td>\n",
       "      <td>tt0112302</td>\n",
       "      <td>en</td>\n",
       "      <td>Tom and Huck</td>\n",
       "      <td>A mischievous young boy, Tom Sawyer, witnesses...</td>\n",
       "      <td>...</td>\n",
       "      <td>1995-12-22</td>\n",
       "      <td>0</td>\n",
       "      <td>97.0</td>\n",
       "      <td>[{'iso_639_1': 'en', 'name': 'English'}, {'iso...</td>\n",
       "      <td>Released</td>\n",
       "      <td>The Original Bad Boys.</td>\n",
       "      <td>Tom and Huck</td>\n",
       "      <td>False</td>\n",
       "      <td>5.4</td>\n",
       "      <td>45</td>\n",
       "    </tr>\n",
       "    <tr>\n",
       "      <th>4</th>\n",
       "      <td>False</td>\n",
       "      <td>NaN</td>\n",
       "      <td>35000000</td>\n",
       "      <td>[{'id': 28, 'name': 'Action'}, {'id': 12, 'nam...</td>\n",
       "      <td>NaN</td>\n",
       "      <td>9091</td>\n",
       "      <td>tt0114576</td>\n",
       "      <td>en</td>\n",
       "      <td>Sudden Death</td>\n",
       "      <td>International action superstar Jean Claude Van...</td>\n",
       "      <td>...</td>\n",
       "      <td>1995-12-22</td>\n",
       "      <td>64350171</td>\n",
       "      <td>106.0</td>\n",
       "      <td>[{'iso_639_1': 'en', 'name': 'English'}]</td>\n",
       "      <td>Released</td>\n",
       "      <td>Terror goes into overtime.</td>\n",
       "      <td>Sudden Death</td>\n",
       "      <td>False</td>\n",
       "      <td>5.5</td>\n",
       "      <td>174</td>\n",
       "    </tr>\n",
       "  </tbody>\n",
       "</table>\n",
       "<p>5 rows × 24 columns</p>\n",
       "</div>"
      ],
      "text/plain": [
       "      0                                                  1         2   \\\n",
       "0  False  {'id': 10194, 'name': 'Toy Story Collection', ...  30000000   \n",
       "1  False                                                NaN  16000000   \n",
       "2  False  {'id': 96871, 'name': 'Father of the Bride Col...         0   \n",
       "3  False                                                NaN         0   \n",
       "4  False                                                NaN  35000000   \n",
       "\n",
       "                                                  3   \\\n",
       "0  [{'id': 16, 'name': 'Animation'}, {'id': 35, '...   \n",
       "1  [{'id': 35, 'name': 'Comedy'}, {'id': 18, 'nam...   \n",
       "2                     [{'id': 35, 'name': 'Comedy'}]   \n",
       "3  [{'id': 28, 'name': 'Action'}, {'id': 12, 'nam...   \n",
       "4  [{'id': 28, 'name': 'Action'}, {'id': 12, 'nam...   \n",
       "\n",
       "                                     4      5          6   7   \\\n",
       "0  http://toystory.disney.com/toy-story    862  tt0114709  en   \n",
       "1                                   NaN  31357  tt0114885  en   \n",
       "2                                   NaN  11862  tt0113041  en   \n",
       "3                                   NaN  45325  tt0112302  en   \n",
       "4                                   NaN   9091  tt0114576  en   \n",
       "\n",
       "                            8   \\\n",
       "0                    Toy Story   \n",
       "1            Waiting to Exhale   \n",
       "2  Father of the Bride Part II   \n",
       "3                 Tom and Huck   \n",
       "4                 Sudden Death   \n",
       "\n",
       "                                                  9   ...           14  \\\n",
       "0  Led by Woody, Andy's toys live happily in his ...  ...   1995-10-30   \n",
       "1  Cheated on, mistreated and stepped on, the wom...  ...   1995-12-22   \n",
       "2  Just when George Banks has recovered from his ...  ...   1995-02-10   \n",
       "3  A mischievous young boy, Tom Sawyer, witnesses...  ...   1995-12-22   \n",
       "4  International action superstar Jean Claude Van...  ...   1995-12-22   \n",
       "\n",
       "          15     16                                                 17  \\\n",
       "0  373554033   81.0           [{'iso_639_1': 'en', 'name': 'English'}]   \n",
       "1   81452156  127.0           [{'iso_639_1': 'en', 'name': 'English'}]   \n",
       "2   76578911  106.0           [{'iso_639_1': 'en', 'name': 'English'}]   \n",
       "3          0   97.0  [{'iso_639_1': 'en', 'name': 'English'}, {'iso...   \n",
       "4   64350171  106.0           [{'iso_639_1': 'en', 'name': 'English'}]   \n",
       "\n",
       "         18                                                 19  \\\n",
       "0  Released                                                NaN   \n",
       "1  Released  Friends are the people who let you be yourself...   \n",
       "2  Released  Just When His World Is Back To Normal... He's ...   \n",
       "3  Released                             The Original Bad Boys.   \n",
       "4  Released                         Terror goes into overtime.   \n",
       "\n",
       "                            20     21   22    23  \n",
       "0                    Toy Story  False  7.7  5415  \n",
       "1            Waiting to Exhale  False  6.1    34  \n",
       "2  Father of the Bride Part II  False  5.7   173  \n",
       "3                 Tom and Huck  False  5.4    45  \n",
       "4                 Sudden Death  False  5.5   174  \n",
       "\n",
       "[5 rows x 24 columns]"
      ]
     },
     "execution_count": 4,
     "metadata": {},
     "output_type": "execute_result"
    }
   ],
   "source": [
    "movie_train_df.head()"
   ]
  },
  {
   "cell_type": "markdown",
   "metadata": {},
   "source": [
    "### 인기도 (K)"
   ]
  },
  {
   "cell_type": "code",
   "execution_count": null,
   "metadata": {},
   "outputs": [],
   "source": [
    "#MinMaxScaler 함수를 구현하여 사용하였다. \n",
    "def MinMaxScaler(data):\n",
    "    numerator = data - np.min(data, 0)\n",
    "    denominator = np.max(data, 0) - np.min(data, 0)\n",
    "    # noise term prevents the zero division\n",
    "    return numerator / (denominator + 1e-5)"
   ]
  },
  {
   "cell_type": "code",
   "execution_count": 60,
   "metadata": {},
   "outputs": [],
   "source": [
    "popularity = np.array(movie_train_df[10])"
   ]
  },
  {
   "cell_type": "code",
   "execution_count": 132,
   "metadata": {},
   "outputs": [],
   "source": [
    "popularity = np.reshape(popularity, (len(popularity),1))"
   ]
  },
  {
   "cell_type": "code",
   "execution_count": 128,
   "metadata": {
    "scrolled": true
   },
   "outputs": [
    {
     "name": "stdout",
     "output_type": "stream",
     "text": [
      "[0.] [0.99999998]\n"
     ]
    }
   ],
   "source": [
    "print(min(popularity),max(popularity))"
   ]
  },
  {
   "cell_type": "code",
   "execution_count": 129,
   "metadata": {},
   "outputs": [],
   "source": [
    "popularity = MinMaxScaler(popularity)"
   ]
  },
  {
   "cell_type": "code",
   "execution_count": 130,
   "metadata": {},
   "outputs": [
    {
     "name": "stdout",
     "output_type": "stream",
     "text": [
      "[0.] [0.99999]\n"
     ]
    }
   ],
   "source": [
    "print(min(popularity),max(popularity))"
   ]
  },
  {
   "cell_type": "code",
   "execution_count": 131,
   "metadata": {},
   "outputs": [
    {
     "data": {
      "text/plain": [
       "array([[0.04008581],\n",
       "       [0.00704899],\n",
       "       [0.01531945],\n",
       "       ...,\n",
       "       [0.03803069],\n",
       "       [0.00802232],\n",
       "       [0.00202532]])"
      ]
     },
     "execution_count": 131,
     "metadata": {},
     "output_type": "execute_result"
    }
   ],
   "source": [
    "popularity"
   ]
  },
  {
   "cell_type": "code",
   "execution_count": null,
   "metadata": {},
   "outputs": [],
   "source": []
  },
  {
   "cell_type": "markdown",
   "metadata": {},
   "source": [
    "### 사용 언어 one_hot으로"
   ]
  },
  {
   "cell_type": "code",
   "execution_count": 99,
   "metadata": {},
   "outputs": [],
   "source": [
    "languages = np.array(movie_train_df[7])\n",
    "languages2 = np.array(movie_test_df[7])"
   ]
  },
  {
   "cell_type": "code",
   "execution_count": 100,
   "metadata": {
    "scrolled": false
   },
   "outputs": [
    {
     "name": "stdout",
     "output_type": "stream",
     "text": [
      "29\n"
     ]
    }
   ],
   "source": [
    "u_languages = set(languages)\n",
    "u_languages2 = set(languages2)\n",
    "print(len(u_languages))\n",
    "#print(len(u_languages2))"
   ]
  },
  {
   "cell_type": "code",
   "execution_count": 101,
   "metadata": {},
   "outputs": [
    {
     "data": {
      "text/plain": [
       "{'da', 'de', 'en', 'fi', 'fr', 'it', 'nl', 'no', 'pt', 'sr', 'sv'}"
      ]
     },
     "execution_count": 101,
     "metadata": {},
     "output_type": "execute_result"
    }
   ],
   "source": [
    "u_languages2"
   ]
  },
  {
   "cell_type": "code",
   "execution_count": 102,
   "metadata": {},
   "outputs": [
    {
     "data": {
      "text/plain": [
       "{'ab',\n",
       " 'bs',\n",
       " 'da',\n",
       " 'de',\n",
       " 'el',\n",
       " 'en',\n",
       " 'et',\n",
       " 'fi',\n",
       " 'fr',\n",
       " 'he',\n",
       " 'hr',\n",
       " 'id',\n",
       " 'it',\n",
       " 'ja',\n",
       " 'ku',\n",
       " 'lo',\n",
       " 'nb',\n",
       " 'ne',\n",
       " 'nl',\n",
       " 'no',\n",
       " 'pl',\n",
       " 'pt',\n",
       " 'ru',\n",
       " 'sq',\n",
       " 'sr',\n",
       " 'sv',\n",
       " 'tl',\n",
       " 'tr',\n",
       " 'xx'}"
      ]
     },
     "execution_count": 102,
     "metadata": {},
     "output_type": "execute_result"
    }
   ],
   "source": [
    "u_languages"
   ]
  },
  {
   "cell_type": "code",
   "execution_count": 103,
   "metadata": {},
   "outputs": [
    {
     "name": "stdout",
     "output_type": "stream",
     "text": [
      "{'xx': 0, 'da': 1, 'he': 2, 'sr': 3, 'ne': 4, 'nb': 5, 'ja': 6, 'hr': 7, 'tl': 8, 'sq': 9, 'el': 10, 'no': 11, 'fr': 12, 'lo': 13, 'ku': 14, 'et': 15, 'tr': 16, 'it': 17, 'pt': 18, 'id': 19, 'sv': 20, 'de': 21, 'pl': 22, 'en': 23, 'ab': 24, 'bs': 25, 'ru': 26, 'nl': 27, 'fi': 28}\n"
     ]
    }
   ],
   "source": [
    "lang_dict = {}\n",
    "num = 0\n",
    "for lang in u_languages :\n",
    "    lang_dict[lang] = num\n",
    "    num += 1\n",
    "\n",
    "print(lang_dict)"
   ]
  },
  {
   "cell_type": "code",
   "execution_count": 104,
   "metadata": {},
   "outputs": [
    {
     "data": {
      "text/plain": [
       "array(['en', 'en', 'en', 'en', 'en', 'en', 'en', 'en', 'en', 'en'],\n",
       "      dtype=object)"
      ]
     },
     "execution_count": 104,
     "metadata": {},
     "output_type": "execute_result"
    }
   ],
   "source": [
    "languages[:10]"
   ]
  },
  {
   "cell_type": "code",
   "execution_count": 105,
   "metadata": {},
   "outputs": [],
   "source": [
    "for i in range(0, len(languages)) :\n",
    "    languages[i] = lang_dict[languages[i]]\n"
   ]
  },
  {
   "cell_type": "code",
   "execution_count": 106,
   "metadata": {},
   "outputs": [],
   "source": [
    "one_hot = np.zeros((len(languages),len(u_languages)),dtype=int)\n",
    "for i in range(0, len(one_hot)) :\n",
    "    one_hot[i][languages[i]] = 1"
   ]
  },
  {
   "cell_type": "code",
   "execution_count": 107,
   "metadata": {},
   "outputs": [
    {
     "name": "stdout",
     "output_type": "stream",
     "text": [
      "[[0 0 0 0 0 0 0 0 0 0 0 0 0 0 0 0 0 0 0 0 0 0 0 1 0 0 0 0 0]\n",
      " [0 0 0 0 0 0 0 0 0 0 0 0 0 0 0 0 0 0 0 0 0 0 0 1 0 0 0 0 0]]\n"
     ]
    }
   ],
   "source": [
    "print(one_hot[:2])"
   ]
  },
  {
   "cell_type": "code",
   "execution_count": 108,
   "metadata": {},
   "outputs": [
    {
     "data": {
      "text/plain": [
       "(8589, 29)"
      ]
     },
     "execution_count": 108,
     "metadata": {},
     "output_type": "execute_result"
    }
   ],
   "source": [
    "one_hot.shape"
   ]
  },
  {
   "cell_type": "markdown",
   "metadata": {},
   "source": [
    "### Overview를 자연어처리 하기"
   ]
  },
  {
   "cell_type": "code",
   "execution_count": 15,
   "metadata": {},
   "outputs": [],
   "source": [
    "def overview_to_words(raw_review) :\n",
    "    #1.html 태그 제거\n",
    "    review_text = BeautifulSoup(raw_review, 'html.parser').get_text()\n",
    "    #2. 정규식을 이용해서 영문자가 아닌 문자는 공백으로 전환\n",
    "    letters_only = re.sub('[^a-zA-Z]', ' ', review_text)\n",
    "    #3. 소문자로 변환\n",
    "    words = letters_only.lower().split()\n",
    "    #4. 파이썬에서는 리스트보다 세트로 찾는게 훨씬 빠르다.\n",
    "    # 그러므로 stopwords를 세트로 변환한다.\n",
    "    stops = set(stopwords.words('english'))\n",
    "    #5. stopwords(불용어) 제거\n",
    "    meaningful_words = [w for w in words if not w in stops]\n",
    "    #6. 어간 추출(stemming)\n",
    "    stemmer = SnowballStemmer('english') #make stemmer\n",
    "    stemming_words = [stemmer.stem(w) for w in meaningful_words]\n",
    "    #7. 공백으로 구분된 문자열로 결합하여 결과를 반환\n",
    "    return( ' '.join(stemming_words) )\n"
   ]
  },
  {
   "cell_type": "code",
   "execution_count": 16,
   "metadata": {},
   "outputs": [
    {
     "name": "stdout",
     "output_type": "stream",
     "text": [
      "(8589, 24)\n"
     ]
    }
   ],
   "source": [
    "x_train = np.array(movie_train_df[[9]])\n",
    "#y_train = np.array(movie_train_df[[22]])\n",
    "print(movie_train_df.shape)"
   ]
  },
  {
   "cell_type": "code",
   "execution_count": 17,
   "metadata": {
    "scrolled": false
   },
   "outputs": [
    {
     "data": {
      "text/plain": [
       "array([[\"Led by Woody, Andy's toys live happily in his room until Andy's birthday brings Buzz Lightyear onto the scene. Afraid of losing his place in Andy's heart, Woody plots against Buzz. But when circumstances separate Buzz and Woody from their owner, the duo eventually learns to put aside their differences.\"],\n",
       "       ['Cheated on, mistreated and stepped on, the women are holding their breath, waiting for the elusive \"good man\" to break a string of less-than-stellar lovers. Friends and confidants Vannah, Bernie, Glo and Robin talk it all out, determined to find a better way to breathe.'],\n",
       "       [\"Just when George Banks has recovered from his daughter's wedding, he receives the news that she's pregnant ... and that George's wife, Nina, is expecting too. He was planning on selling their home, but that's a plan that -- like George -- will have to change with the arrival of both a grandchild and a kid of his own.\"]],\n",
       "      dtype=object)"
      ]
     },
     "execution_count": 17,
     "metadata": {},
     "output_type": "execute_result"
    }
   ],
   "source": [
    "x_train[:3] # overview 잘 들어갔나 확인"
   ]
  },
  {
   "cell_type": "code",
   "execution_count": 18,
   "metadata": {},
   "outputs": [
    {
     "data": {
      "text/plain": [
       "(8589, 1)"
      ]
     },
     "execution_count": 18,
     "metadata": {},
     "output_type": "execute_result"
    }
   ],
   "source": [
    "x_train.shape"
   ]
  },
  {
   "cell_type": "code",
   "execution_count": 19,
   "metadata": {},
   "outputs": [
    {
     "data": {
      "text/plain": [
       "numpy.ndarray"
      ]
     },
     "execution_count": 19,
     "metadata": {},
     "output_type": "execute_result"
    }
   ],
   "source": [
    "#type(x_train)\n",
    "type(x_train[:1])"
   ]
  },
  {
   "cell_type": "code",
   "execution_count": 20,
   "metadata": {},
   "outputs": [
    {
     "name": "stdout",
     "output_type": "stream",
     "text": [
      "<class 'str'>\n"
     ]
    }
   ],
   "source": [
    "clean_overview = overview_to_words(str(x_train[1]))\n",
    "print(type(clean_overview))"
   ]
  },
  {
   "cell_type": "code",
   "execution_count": 21,
   "metadata": {},
   "outputs": [
    {
     "name": "stdout",
     "output_type": "stream",
     "text": [
      "cheat mistreat step women hold breath wait elus good man break string less stellar lover friend confid vannah berni glo robin talk determin find better way breath\n"
     ]
    }
   ],
   "source": [
    "print(clean_overview)"
   ]
  },
  {
   "cell_type": "code",
   "execution_count": 22,
   "metadata": {},
   "outputs": [],
   "source": [
    "#자연어 처리 후의 데이터 저장\n",
    "clean_overviews = []\n",
    "for i in range(len(x_train)) :\n",
    "    c_overview = overview_to_words(str(x_train[i]))\n",
    "    clean_overviews.append(c_overview)\n",
    "    \n",
    "df_clean_overviews = pd.DataFrame(clean_overviews)"
   ]
  },
  {
   "cell_type": "code",
   "execution_count": 23,
   "metadata": {},
   "outputs": [
    {
     "data": {
      "text/plain": [
       "['led woodi andi toy live happili room andi birthday bring buzz lightyear onto scene afraid lose place andi heart woodi plot buzz circumst separ buzz woodi owner duo eventu learn put asid differ',\n",
       " 'cheat mistreat step women hold breath wait elus good man break string less stellar lover friend confid vannah berni glo robin talk determin find better way breath',\n",
       " 'georg bank recov daughter wed receiv news pregnant georg wife nina expect plan sell home plan like georg chang arriv grandchild kid',\n",
       " 'mischiev young boy tom sawyer wit murder dead injun joe tom becom friend huckleberri finn boy futur famili tom choos honor friendship honor oath town alcohol accus murder tom huck go sever adventur tri retriev evid',\n",
       " 'intern action superstar jean claud van damm team power booth tension pack suspens thriller set back drop stanley cup game van damm portray father whose daughter sudden taken championship hockey game captor demand billion dollar game end van damm frantic set plan motion rescu daughter abort impend explos final buzzer']"
      ]
     },
     "execution_count": 23,
     "metadata": {},
     "output_type": "execute_result"
    }
   ],
   "source": [
    "clean_overviews[:5]"
   ]
  },
  {
   "cell_type": "code",
   "execution_count": 24,
   "metadata": {},
   "outputs": [],
   "source": [
    "#전처리한 overview 저장\n",
    "df_clean_overviews.to_csv('E:/STUDY/Source files/python/Inf/data2/movie_overview.csv', header = False, index = False)"
   ]
  },
  {
   "cell_type": "code",
   "execution_count": 25,
   "metadata": {},
   "outputs": [],
   "source": [
    "#자연어 처리 후 각 overview의 중복 단어 제거 후 저장\n",
    "clean_overview_words = []\n",
    "for i in range(len(clean_overviews)) :\n",
    "    words = clean_overviews[i].split()\n",
    "    words = set(words)\n",
    "    words = list(words)\n",
    "    clean_overview_words.append(' '.join(words))\n",
    "    \n",
    "df_clean_overview_words = pd.DataFrame(clean_overview_words)"
   ]
  },
  {
   "cell_type": "code",
   "execution_count": 26,
   "metadata": {
    "scrolled": true
   },
   "outputs": [
    {
     "data": {
      "text/plain": [
       "['live bring onto differ woodi birthday buzz afraid duo room owner asid plot separ scene eventu circumst put led place learn andi lose happili toy lightyear heart',\n",
       " 'women find talk better lover berni stellar vannah good breath confid wait elus glo step determin robin friend less string mistreat man way cheat hold break',\n",
       " 'home receiv like pregnant grandchild bank chang news plan kid wed georg wife sell arriv daughter recov nina expect',\n",
       " 'sawyer mischiev evid joe dead wit murder becom finn go boy famili friendship young honor accus retriev sever friend huckleberri tom futur choos alcohol oath town huck tri adventur injun',\n",
       " 'buzzer back van father motion captor explos booth billion impend dollar superstar tension suspens claud stanley cup set daughter team sudden whose portray pack championship hockey final thriller drop jean end intern taken demand power damm rescu frantic plan abort action game']"
      ]
     },
     "execution_count": 26,
     "metadata": {},
     "output_type": "execute_result"
    }
   ],
   "source": [
    "clean_overview_words[:5]"
   ]
  },
  {
   "cell_type": "code",
   "execution_count": 27,
   "metadata": {},
   "outputs": [],
   "source": [
    "#전처리한 overview의 unique한 words 저장\n",
    "df_clean_overview_words.to_csv('E:/STUDY/Source files/python/Inf/data2/movie_overview_words.csv', header = False, index = False)"
   ]
  },
  {
   "cell_type": "markdown",
   "metadata": {},
   "source": [
    "### Sparse한 데이터(예산, 수익)를 정규화 & 수익율 구하기 (sklearn의 minmaxscaler)"
   ]
  },
  {
   "cell_type": "code",
   "execution_count": 28,
   "metadata": {},
   "outputs": [],
   "source": [
    "#MinMaxScaler 함수를 구현하여 사용하였다. 위의 popularity에서 쓴 함수랑 같은 함수\n",
    "def MinMaxScaler(data):\n",
    "    numerator = data - np.min(data, 0)\n",
    "    denominator = np.max(data, 0) - np.min(data, 0)\n",
    "    # noise term prevents the zero division\n",
    "    return numerator / (denominator + 1e-5)"
   ]
  },
  {
   "cell_type": "code",
   "execution_count": 29,
   "metadata": {},
   "outputs": [],
   "source": [
    "budgets = np.array(movie_train_df[[2]]) # budget\n",
    "regul_budgets = MinMaxScaler(budgets) # budget을 정규화함\n",
    "profits = np.array(movie_train_df[[15]]) # profit\n",
    "profit_rate = [] # 여기에 for문을 돌면서 [정규화 budget, 이익율] 저장\n",
    "for i in range(len(budgets)) :\n",
    "    temp = []\n",
    "    #temp.append(int(budgets[i])) # budget 저장해주고자 할 때\n",
    "    #temp.append(int(profits[i])) # profit 저장해주고자 할 때\n",
    "    temp.append(round(float(regul_budgets[i]),3))\n",
    "    if budgets[i] == 0.0 :\n",
    "        temp.append(0)\n",
    "    else :\n",
    "        temp.append(round((100*float(profits[i]))/(float(budgets[i])),3))\n",
    "    profit_rate.append(temp)"
   ]
  },
  {
   "cell_type": "code",
   "execution_count": 30,
   "metadata": {
    "scrolled": false
   },
   "outputs": [
    {
     "data": {
      "text/plain": [
       "(8589, 2)"
      ]
     },
     "execution_count": 30,
     "metadata": {},
     "output_type": "execute_result"
    }
   ],
   "source": [
    "profit_rate = np.array(profit_rate)\n",
    "profit_rate.shape"
   ]
  },
  {
   "cell_type": "code",
   "execution_count": 31,
   "metadata": {
    "scrolled": false
   },
   "outputs": [
    {
     "data": {
      "text/plain": [
       "8589"
      ]
     },
     "execution_count": 31,
     "metadata": {},
     "output_type": "execute_result"
    }
   ],
   "source": [
    "len(profit_rate)"
   ]
  },
  {
   "cell_type": "code",
   "execution_count": 64,
   "metadata": {},
   "outputs": [
    {
     "data": {
      "text/plain": [
       "array([[1.00000e-01, 1.24518e+03],\n",
       "       [5.30000e-02, 5.09076e+02],\n",
       "       [0.00000e+00, 0.00000e+00],\n",
       "       [0.00000e+00, 0.00000e+00],\n",
       "       [1.17000e-01, 1.83858e+02],\n",
       "       [2.07000e-01, 1.73999e+02],\n",
       "       [0.00000e+00, 0.00000e+00],\n",
       "       [0.00000e+00, 0.00000e+00],\n",
       "       [1.47000e-01, 3.10950e+01],\n",
       "       [3.27000e-01, 1.02220e+01]])"
      ]
     },
     "execution_count": 64,
     "metadata": {},
     "output_type": "execute_result"
    }
   ],
   "source": [
    "profit_rate[:10]"
   ]
  },
  {
   "cell_type": "code",
   "execution_count": 32,
   "metadata": {},
   "outputs": [],
   "source": [
    "df_profit_rate = pd.DataFrame(profit_rate)\n",
    "# 정규화한 budget, 이익율 저장\n",
    "df_profit_rate.to_csv('E:/STUDY/Source files/python/Inf/data2/profit_rate.csv', header = False, index = False)"
   ]
  },
  {
   "cell_type": "markdown",
   "metadata": {},
   "source": [
    "### 제작 회사 얻어내기"
   ]
  },
  {
   "cell_type": "code",
   "execution_count": 193,
   "metadata": {},
   "outputs": [],
   "source": [
    "import json"
   ]
  },
  {
   "cell_type": "code",
   "execution_count": null,
   "metadata": {},
   "outputs": [],
   "source": [
    "def jsonRead(li_input, frequency, str_target) :\n",
    "    # 함수 내의 주석 예는 영화 제작 회사를 추출할 때로 예를 들음\n",
    "    i = 0\n",
    "    li_items = []\n",
    "    u_li_items = [] # 얘는 unique한 회사이름 저장하기 위해\n",
    "    # while문 통해 돌면서 회사 추출해서 저장\n",
    "    while True :\n",
    "        if i == len(li_input) : #반복문이 끝나는 조건 : 끝까지 다 봤을 때\n",
    "            break\n",
    "\n",
    "        try : \n",
    "            j = (li_input[i][0])\n",
    "            j = j.replace(\"'\", '\"') # json.loads 할 때 ''로 되있으면 안되고 \"\"로 바꿔야함\n",
    "            j = json.loads(j)\n",
    "        except Exception as e:\n",
    "            #print(e)\n",
    "            j = li_input[i][0]\n",
    "\n",
    "            index = 0\n",
    "            while index != len(j) :\n",
    "                if j[index] == '\"' :\n",
    "                    d = 1\n",
    "                    while j[index+d] != '\"' :\n",
    "                        if j[index+d] == \"'\" : #'가 나오면 공백으로 대체\n",
    "                            j = j[:index+d] + ' ' + j[index+d+1:]\n",
    "                        d+= 1\n",
    "                    index += d\n",
    "                if j[index] == \"'\" :\n",
    "                    d = 1\n",
    "                    while j[index+d] != \"'\" :\n",
    "                        if j[index+d] == '\"' : #'가 나오면 공백으로 대체\n",
    "                            j = j[:index+d] + ' ' + j[index+d+1:]\n",
    "                        d+= 1\n",
    "                    index += d\n",
    "\n",
    "                index += 1\n",
    "            j = j.replace(\"'\", '\"')\n",
    "            try : \n",
    "                j = json.loads(j)\n",
    "            except Exception as e:\n",
    "                print(e)\n",
    "                print(i)\n",
    "                print(li_input[i][0])\n",
    "                print(j)\n",
    "\n",
    "            #for k in range(len(j)) :\n",
    "            #    print(j[k]['name'])\n",
    "            #break\n",
    "\n",
    "        temp = []\n",
    "        for k in range(len(j)) :\n",
    "            temp.append(j[k][str_target])\n",
    "            u_li_items.append(j[k][str_target])\n",
    "        #movie_companies.append(', '.join(temp)) #판다스저장용\n",
    "        li_items.append(temp)\n",
    "\n",
    "        i += 1\n",
    "\n",
    "    u_li_items = keywords_frequency(u_li_items, frequency) # frequency 횟수 이상 나온 것들만 저장\n",
    "    #u_movie_companies = set(u_movie_companies)\n",
    "    #df_movie_companies = pd.DataFrame(movie_companies) #판다스 저장용\n",
    "    \n",
    "    return li_items, u_li_items"
   ]
  },
  {
   "cell_type": "code",
   "execution_count": null,
   "metadata": {},
   "outputs": [],
   "source": [
    "# 이 함수는 jsonRead를 통해 정보를 뽑아낸 후 그 정보를 갖고서 one_hot 인코딩을 해주기 위한 함수\n",
    "def convertOnehot(li_items, u_li_items) :\n",
    "    li_item_dict = {}\n",
    "    num = 0\n",
    "    for item in u_li_items :\n",
    "        li_item_dict[item] = num\n",
    "        num += 1\n",
    "        \n",
    "    for i in range(0, len(li_items)) :\n",
    "        for j in range(0, len(li_items[i])) :\n",
    "            if li_items[i][j] in li_item_dict :\n",
    "                li_items[i][j] = li_item_dict[li_items[i][j]]\n",
    "            else :\n",
    "                li_items[i][j] = -1\n",
    "    \n",
    "    li_item_one_hot = np.zeros((len(li_items),len(u_li_items)),dtype=int)\n",
    "    for i in range(0, len(li_item_one_hot)) :\n",
    "        for j in range(0, len(li_items[i])) :\n",
    "            if li_items[i][j] != -1 :\n",
    "                li_item_one_hot[i][li_items[i][j]] = 1\n",
    "    \n",
    "    #print(li_item_one_hot.shape)\n",
    "    #print(li_item_one_hot)\n",
    "    return li_items, li_item_one_hot"
   ]
  },
  {
   "cell_type": "code",
   "execution_count": 212,
   "metadata": {},
   "outputs": [],
   "source": [
    "def keywords_frequency(li, frequency):\n",
    "    # 일단 시기별로(분기별로) 각 키워드가 나온 횟수를 딕셔너리로 만듦. \n",
    "    # input: 키워드가 들어있는 리스트 output: 각 키워드별 등장 횟수가 대응되는 딕셔너리. \n",
    "    freq = {}\n",
    "    \n",
    "    for i in li:\n",
    "        if i in freq.keys():\n",
    "            freq[i] += 1\n",
    "        else:\n",
    "            freq[i] = 1  \n",
    "    \n",
    "    for k, v in freq.items():\n",
    "        if v > frequency :\n",
    "            pass\n",
    "        else:\n",
    "            freq[k] = -1\n",
    "        \n",
    "    freq2 = {}\n",
    "\n",
    "    for k, v in freq.items():\n",
    "        if v != -1:\n",
    "            freq2[k] = v\n",
    "    \n",
    "    return freq2"
   ]
  },
  {
   "cell_type": "code",
   "execution_count": 195,
   "metadata": {},
   "outputs": [],
   "source": [
    "companies = (movie_train_df[[12]]) # company"
   ]
  },
  {
   "cell_type": "code",
   "execution_count": 196,
   "metadata": {},
   "outputs": [
    {
     "data": {
      "text/html": [
       "<div>\n",
       "<style scoped>\n",
       "    .dataframe tbody tr th:only-of-type {\n",
       "        vertical-align: middle;\n",
       "    }\n",
       "\n",
       "    .dataframe tbody tr th {\n",
       "        vertical-align: top;\n",
       "    }\n",
       "\n",
       "    .dataframe thead th {\n",
       "        text-align: right;\n",
       "    }\n",
       "</style>\n",
       "<table border=\"1\" class=\"dataframe\">\n",
       "  <thead>\n",
       "    <tr style=\"text-align: right;\">\n",
       "      <th></th>\n",
       "      <th>12</th>\n",
       "    </tr>\n",
       "  </thead>\n",
       "  <tbody>\n",
       "    <tr>\n",
       "      <th>0</th>\n",
       "      <td>[{'name': 'Pixar Animation Studios', 'id': 3}]</td>\n",
       "    </tr>\n",
       "    <tr>\n",
       "      <th>1</th>\n",
       "      <td>[{'name': 'Twentieth Century Fox Film Corporat...</td>\n",
       "    </tr>\n",
       "    <tr>\n",
       "      <th>2</th>\n",
       "      <td>[{'name': 'Sandollar Productions', 'id': 5842}...</td>\n",
       "    </tr>\n",
       "    <tr>\n",
       "      <th>3</th>\n",
       "      <td>[{'name': 'Walt Disney Pictures', 'id': 2}]</td>\n",
       "    </tr>\n",
       "    <tr>\n",
       "      <th>4</th>\n",
       "      <td>[{'name': 'Universal Pictures', 'id': 33}, {'n...</td>\n",
       "    </tr>\n",
       "  </tbody>\n",
       "</table>\n",
       "</div>"
      ],
      "text/plain": [
       "                                                  12\n",
       "0     [{'name': 'Pixar Animation Studios', 'id': 3}]\n",
       "1  [{'name': 'Twentieth Century Fox Film Corporat...\n",
       "2  [{'name': 'Sandollar Productions', 'id': 5842}...\n",
       "3        [{'name': 'Walt Disney Pictures', 'id': 2}]\n",
       "4  [{'name': 'Universal Pictures', 'id': 33}, {'n..."
      ]
     },
     "execution_count": 196,
     "metadata": {},
     "output_type": "execute_result"
    }
   ],
   "source": [
    "companies.head()"
   ]
  },
  {
   "cell_type": "code",
   "execution_count": 197,
   "metadata": {},
   "outputs": [],
   "source": [
    "companies = companies.values.tolist()"
   ]
  },
  {
   "cell_type": "code",
   "execution_count": 295,
   "metadata": {},
   "outputs": [],
   "source": [
    "movie_companies, u_movie_companies = jsonRead(companies, 5, 'name')"
   ]
  },
  {
   "cell_type": "code",
   "execution_count": 296,
   "metadata": {
    "scrolled": true
   },
   "outputs": [
    {
     "data": {
      "text/plain": [
       "[['Pixar Animation Studios'],\n",
       " ['Twentieth Century Fox Film Corporation'],\n",
       " ['Sandollar Productions', 'Touchstone Pictures'],\n",
       " ['Walt Disney Pictures'],\n",
       " ['Universal Pictures', 'Imperial Entertainment', 'Signature Entertainment'],\n",
       " ['Columbia Pictures', 'Castle Rock Entertainment'],\n",
       " ['Columbia Pictures', 'Castle Rock Entertainment', 'Enigma Pictures'],\n",
       " ['Universal Pictures', 'Amblin Entertainment', 'Amblimation'],\n",
       " ['Hollywood Pictures', 'Cinergi Pictures Entertainment'],\n",
       " ['Le Studio Canal+',\n",
       "  'Laurence Mark Productions',\n",
       "  'Metro-Goldwyn-Mayer (MGM)',\n",
       "  'Carolco Pictures'],\n",
       " ['Columbia Pictures Corporation', 'Mirage Enterprises'],\n",
       " ['Miramax Films', 'A Band Apart'],\n",
       " ['O Entertainment', 'Warner Bros.', 'Morgan Creek Productions'],\n",
       " ['Columbia Pictures'],\n",
       " ['Jersey Films', 'Metro-Goldwyn-Mayer (MGM)'],\n",
       " ['Caravan Pictures', 'Hollywood Pictures'],\n",
       " ['Columbia Pictures', 'Castle Rock Entertainment'],\n",
       " ['New Line Cinema'],\n",
       " ['BBC Films'],\n",
       " ['Havoc', 'PolyGram Filmed Entertainment', 'Working Title Films'],\n",
       " ['Dualstar Productions',\n",
       "  'Warner Bros.',\n",
       "  'Rysher Entertainment',\n",
       "  'Orr & Cruickshank'],\n",
       " ['Miramax', 'Distant Horizon', 'Alpine Pty Limited'],\n",
       " ['British Screen', 'Mayfair Entertainment International'],\n",
       " ['The Rank Organisation', 'Columbia Pictures Corporation'],\n",
       " ['Walt Disney Pictures', 'Walt Disney Feature Animation'],\n",
       " ['Miramax Films', 'Magnolia Pictures'],\n",
       " ['Paramount Pictures',\n",
       "  'Columbia Pictures Corporation',\n",
       "  'The Kennedy/Marshall Company'],\n",
       " ['Hollywood Pictures',\n",
       "  'The Charlie Mopic Company',\n",
       "  'PolyGram Filmed Entertainment',\n",
       "  'Interscope Communications'],\n",
       " ['Warner Bros.', 'Morgan Creek Productions'],\n",
       " ['New Line Cinema'],\n",
       " ['New Line Cinema', 'Juno Pix'],\n",
       " ['Warner Bros.', 'Morgan Creek Productions'],\n",
       " ['The Movie Network (TMN)',\n",
       "  'Allegro Films',\n",
       "  'Fuji Eight Company Ltd.',\n",
       "  'Fries Film Group',\n",
       "  'Super Ecran',\n",
       "  'Triumph Films'],\n",
       " ['Miramax Films'],\n",
       " ['Columbia Pictures Corporation'],\n",
       " ['Playhouse International Pictures', 'The Samuel Goldwyn Company'],\n",
       " ['Paramount Pictures'],\n",
       " ['Paramount Pictures'],\n",
       " ['Paramount Pictures'],\n",
       " ['Twentieth Century Fox Film Corporation',\n",
       "  'WCG Entertainment Productions',\n",
       "  'Mark Gordon Productions'],\n",
       " ['Channel Four Films'],\n",
       " ['Columbia Pictures', 'Castle Rock Entertainment'],\n",
       " ['Metro-Goldwyn-Mayer (MGM)', 'Dino De Laurentiis Company', 'Spelling Films'],\n",
       " ['Universal Pictures',\n",
       "  'Brillstein-Grey Entertainment',\n",
       "  'Robert Simonds Productions'],\n",
       " ['Walt Disney Pictures', 'Jim Henson Productions', 'Jim Henson Company, The'],\n",
       " ['TriStar Pictures', 'Motion Picture Corporation of America (MPCA)'],\n",
       " ['TriStar Pictures'],\n",
       " ['Miramax Films'],\n",
       " ['Studio Babelsberg',\n",
       "  'Dieter Geissler Filmproduktion',\n",
       "  'Cinevox Filmproduktion GmbH',\n",
       "  'Warner Bros.',\n",
       "  'Miramax'],\n",
       " ['Paramount Pictures'],\n",
       " ['Columbia Pictures', 'Don Simpson/Jerry Bruckheimer Films'],\n",
       " ['Fine Line Features',\n",
       "  'BBC',\n",
       "  'British Screen Productions',\n",
       "  'Portman Productions'],\n",
       " ['Imagine Entertainment', 'Universal Pictures'],\n",
       " ['United Artists', 'Talisman Productions'],\n",
       " ['October Films', 'Guild', 'Fastnet Films'],\n",
       " ['Warner Bros.', 'Polygram Filmed Entertainment'],\n",
       " ['Miramax Films', 'InterAL'],\n",
       " ['Universal Pictures',\n",
       "  'Amblin Entertainment',\n",
       "  'The Harvey Entertainment Company'],\n",
       " ['Universal Pictures', '40 Acres & A Mule Filmworks'],\n",
       " ['Hollywood Pictures', 'Don Simpson/Jerry Bruckheimer Films'],\n",
       " ['Superior Pictures'],\n",
       " ['Columbia Pictures', 'Los Hooligans Productions'],\n",
       " ['TriStar Pictures', 'Mundy Lane Entertainment'],\n",
       " ['Why Not Productions',\n",
       "  'Desperate Pictures',\n",
       "  'Blurco',\n",
       "  'The Teen Angst Movie Company'],\n",
       " ['Regency Enterprises',\n",
       "  'Alcor Films',\n",
       "  'Canal+',\n",
       "  'Donner/Shuler-Donner Productions',\n",
       "  'Warner Bros.'],\n",
       " ['Hollywood Pictures', 'Cinergi Pictures Entertainment'],\n",
       " ['TriStar Pictures'],\n",
       " ['Miramax Films'],\n",
       " ['JDI productions', 'Lemon Sky Productions'],\n",
       " ['Touchstone Pictures'],\n",
       " ['Universal Pictures',\n",
       "  'Gramercy Pictures',\n",
       "  'Alphaville Films',\n",
       "  'View Askew Productions'],\n",
       " ['Twentieth Century Fox Film Corporation',\n",
       "  'Saban Entertainment',\n",
       "  'Toei Company'],\n",
       " ['Kino Link Company'],\n",
       " ['Killer Films', 'American Playhouse', 'Kardana Films', 'Chemical Films'],\n",
       " ['Hollywood Pictures', 'Cinergi Pictures Entertainment'],\n",
       " ['United Artists', 'Le Studio Canal+', 'Carolco Pictures'],\n",
       " ['Miramax Films'],\n",
       " ['Spring Creek Productions', 'Warner Bros.', 'Hawn / Sylbert Movie Company'],\n",
       " ['Lightstorm Entertainment'],\n",
       " ['Twentieth Century Fox Film Corporation', 'Zucker Brothers Productions'],\n",
       " ['Twentieth Century Fox Film Corporation'],\n",
       " ['PolyGram Audiovisuel', 'British Screen Productions'],\n",
       " ['Spelling Films International'],\n",
       " ['Universal Pictures', 'Island World'],\n",
       " ['Full Moon Entertainment'],\n",
       " ['Miramax Films', 'View Askew Productions'],\n",
       " ['Warner Bros.', 'Baltimore Pictures'],\n",
       " ['Paramount Pictures'],\n",
       " ['Fine Line Features',\n",
       "  'Channel Four Films',\n",
       "  'Capitol Films',\n",
       "  'TF1 Films Production',\n",
       "  'Canal+',\n",
       "  'Flach Film',\n",
       "  'Les Films de l Astre'],\n",
       " ['New Line Cinema', 'Motion Picture Corporation of America (MPCA)'],\n",
       " ['Savoy Pictures'],\n",
       " ['Touchstone Pictures'],\n",
       " ['Columbia Pictures', 'Castle Rock Entertainment'],\n",
       " ['Twentieth Century Fox Film Corporation'],\n",
       " ['Walt Disney Pictures'],\n",
       " ['TriStar Pictures'],\n",
       " ['Metro-Goldwyn-Mayer'],\n",
       " ['WingNut Films',\n",
       "  'Miramax Films',\n",
       "  'New Zealand Film Commission',\n",
       "  'Fontana Productions'],\n",
       " ['Walt Disney Pictures', 'Caravan Pictures'],\n",
       " ['Paramount Pictures'],\n",
       " ['Merchant Ivory Productions', 'Touchstone Pictures'],\n",
       " ['Caravan Pictures', 'Touchstone Pictures'],\n",
       " ['Universal Pictures', 'Northern Lights Entertainment'],\n",
       " ['Fountainbridge Films', 'Warner Bros.', 'Lee Rich Productions'],\n",
       " ['Walt Disney Pictures', 'Trimark Pictures'],\n",
       " ['Twentieth Century Fox Film Corporation'],\n",
       " ['Lucasfilm', 'Twentieth Century Fox Film Corporation'],\n",
       " ['Channel Four Films', 'Parallax Pictures'],\n",
       " ['Bedford Falls Productions', 'TriStar Pictures', 'Pangaea'],\n",
       " ['Universal Pictures'],\n",
       " ['Warner Bros.'],\n",
       " ['Paramount Pictures'],\n",
       " ['American Zoetrope', 'TriStar Pictures'],\n",
       " ['Walt Disney Pictures'],\n",
       " ['Paramount Pictures', 'The Kennedy/Marshall Company'],\n",
       " ['Twentieth Century Fox Film Corporation'],\n",
       " ['Twentieth Century Fox Film Corporation',\n",
       "  'Egg Pictures',\n",
       "  'PolyGram Filmed Entertainment'],\n",
       " ['TriStar Pictures'],\n",
       " ['New Line Cinema', 'CineTel Pictures', 'MG Entertainment'],\n",
       " ['TriStar Pictures'],\n",
       " ['Jones Entertainment Group', 'Skerry Productions'],\n",
       " ['Jerry Weintraub Productions', 'Warner Bros.', 'Iguana Producciones'],\n",
       " ['Castle Rock Entertainment', 'Warner Bros.'],\n",
       " ['Channel Four Films',\n",
       "  'Figment Films',\n",
       "  'The Glasgow Film Fund',\n",
       "  'PolyGram Filmed Entertainment'],\n",
       " ['Cineville', 'Trimark Pictures'],\n",
       " ['Samuel Goldwyn Company'],\n",
       " ['New Line Cinema', '1992 Number Four Limited Partnership', 'MHA'],\n",
       " ['Universal Pictures', 'Tales From The Crypt Holdings'],\n",
       " ['Paramount Pictures'],\n",
       " ['40 Acres & A Mule Filmworks', 'Savoy Pictures'],\n",
       " ['Paramount Pictures'],\n",
       " ['Sony Pictures Classics'],\n",
       " ['Populist Pictures'],\n",
       " ['Paramount Pictures'],\n",
       " ['Universal Pictures'],\n",
       " ['Columbia Pictures Corporation', 'Beacon Pictures'],\n",
       " ['Warner Bros.', 'Morgan Creek Productions'],\n",
       " ['PolyGram Filmed Entertainment'],\n",
       " ['Miramax Films'],\n",
       " ['Paramount Pictures', 'Mace Neufeld Productions'],\n",
       " ['Regency Enterprises', 'Alcor Films', 'Warner Bros.'],\n",
       " ['Universal Pictures', '40 Acres & A Mule Filmworks'],\n",
       " ['Universal Pictures', 'Amblin Entertainment', 'Hanna-Barbera Productions'],\n",
       " ['Channel Four Films',\n",
       "  'PolyGram Filmed Entertainment',\n",
       "  'Working Title Films'],\n",
       " ['Columbia Pictures Corporation', 'New Deal Productions'],\n",
       " ['TriStar Pictures'],\n",
       " ['Walt Disney Pictures', 'Walt Disney Feature Animation'],\n",
       " ['New Line Cinema', 'Dark Horse Entertainment'],\n",
       " ['Icon Entertainment International', 'Warner Bros.'],\n",
       " ['Fine Line Features', 'Miramax Films'],\n",
       " ['Imagine Entertainment', 'Universal Pictures'],\n",
       " ['Universal Pictures', 'Jersey Films'],\n",
       " ['Metro-Goldwyn-Mayer (MGM)'],\n",
       " ['Universal Pictures',\n",
       "  'Renaissance Pictures',\n",
       "  'Dark Horse Entertainment',\n",
       "  'Largo Entertainment',\n",
       "  'Signature Pictures',\n",
       "  'JVC Entertainment Networks'],\n",
       " ['Tig Productions',\n",
       "  'Warner Bros.',\n",
       "  'Kasdan Pictures',\n",
       "  'Paragon Entertainment Corp.'],\n",
       " ['Touchstone Pictures', 'Tool Shed Productions'],\n",
       " ['Gramercy Pictures', 'PolyGram Filmed Entertainment'],\n",
       " ['Eve Productions Inc.'],\n",
       " ['Propaganda Films',\n",
       "  'Motion Picture Corporation of America (MPCA)',\n",
       "  'Polygram Filmed Entertainment',\n",
       "  'Snowback Productions'],\n",
       " ['Paramount Pictures', 'Orion Pictures', 'Scott Rudin Productions'],\n",
       " ['Columbia Pictures'],\n",
       " ['Twentieth Century Fox Film Corporation',\n",
       "  'Island World',\n",
       "  'Robert Simonds Productions'],\n",
       " ['Hollywood Pictures',\n",
       "  'PolyGram Filmed Entertainment',\n",
       "  'Interscope Communications',\n",
       "  'Nomura Babcock & Brown',\n",
       "  'NBB Unit One Film Partners',\n",
       "  'Longview Entertainment'],\n",
       " ['Twentieth Century Fox Film Corporation'],\n",
       " ['Warner Bros.'],\n",
       " ['Trilogy Entertainment Group', 'Metro-Goldwyn-Mayer (MGM)'],\n",
       " ['Warner Bros.', 'Dorset Productions', 'Robert H. Solo Productions'],\n",
       " ['Mainline Pictures'],\n",
       " ['HBO Films', 'Savoy Pictures'],\n",
       " ['Columbia Pictures', 'Parkway Productions'],\n",
       " ['Metro-Goldwyn-Mayer (MGM)'],\n",
       " ['TriStar Pictures',\n",
       "  'Canal+',\n",
       "  'Carolco Pictures',\n",
       "  'RCS Video',\n",
       "  'Cliffhanger Productions',\n",
       "  'Pioneer'],\n",
       " ['Paramount Pictures'],\n",
       " ['TriStar Pictures'],\n",
       " ['Imagine Entertainment', 'Universal Pictures'],\n",
       " ['Donner/Shuler-Donner Productions',\n",
       "  'Warner Bros.',\n",
       "  'Northern Lights Entertainment'],\n",
       " ['Gramercy Pictures', 'Alphaville Productions', 'The Criterion Collection'],\n",
       " ['Silver Pictures', 'Warner Bros.'],\n",
       " ['Metro-Goldwyn-Mayer (MGM)'],\n",
       " ['Spring Creek Productions', 'Warner Bros.'],\n",
       " ['Spring Creek Productions', 'Warner Bros.'],\n",
       " ['Universal Studios', 'Imagine Entertainment'],\n",
       " ['Paramount Pictures', 'Mirage Enterprises', 'Davis Entertainment'],\n",
       " ['Warner Bros.'],\n",
       " ['Gramercy Pictures'],\n",
       " ['Hollywood Pictures'],\n",
       " ['Universal Pictures', 'Renaissance Pictures', 'Alphaville Films'],\n",
       " ['Twentieth Century Fox Film Corporation', 'Sidley Wright & Associates'],\n",
       " ['PolyGram Filmed Entertainment',\n",
       "  'Silver Pictures',\n",
       "  'Warner Bros.',\n",
       "  'Working Title Films',\n",
       "  'PolyGram Filmproduktion'],\n",
       " ['Hollywood Pictures'],\n",
       " ['Castle Rock Entertainment', 'Columbia Pictures Corporation'],\n",
       " ['Universal Pictures', 'Hell s Kitchen Films'],\n",
       " ['Touchstone Pictures'],\n",
       " ['Universal Pictures', 'Largo Entertainment', 'JVC Entertainment Networks'],\n",
       " ['Propaganda Films', 'Kouf/Bigelow Productions'],\n",
       " ['Gramercy Pictures'],\n",
       " ['Paramount Pictures'],\n",
       " ['Columbia Pictures Corporation', 'Oak Productions'],\n",
       " ['Touchstone Pictures'],\n",
       " ['Savoy Pictures'],\n",
       " ['Geffen Pictures', 'Warner Bros.'],\n",
       " ['Regency Enterprises', 'Warner Bros.'],\n",
       " ['Icon Entertainment International', 'Warner Bros.'],\n",
       " ['TriStar Pictures'],\n",
       " ['New Line Cinema'],\n",
       " ['Silver Pictures', 'Warner Bros.'],\n",
       " ['Renaissance Films', 'American Playhouse Theatrical Films'],\n",
       " ['TriStar Pictures', 'Rastar Films'],\n",
       " ['Twentieth Century Fox Film Corporation', 'Blue Wolf'],\n",
       " ['Columbia Pictures Corporation'],\n",
       " ['Mikado Film', 'Lenfilm Studio', 'Adventure Pictures'],\n",
       " ['Malpaso Productions', 'Warner Bros.'],\n",
       " ['New South Wales Film & Television Office',\n",
       "  'The Australian Film Commission',\n",
       "  'CiBy 2000',\n",
       "  'Jan Chapman Productions'],\n",
       " ['Touchstone Pictures'],\n",
       " ['Hollywood Pictures'],\n",
       " ['Universal Pictures'],\n",
       " ['Touchstone Pictures', 'Don Simpson/Jerry Bruckheimer Films'],\n",
       " ['Columbia Pictures', 'Merchant Ivory Productions'],\n",
       " ['Gaumont', 'Twentieth Century Fox Film Corporation', 'Brooksfilms'],\n",
       " ['Working Title Films', 'Polygram Filmed Entertainment', 'Hilary Henkin'],\n",
       " ['Ruby in Paradise', 'Full Crew/Say Yea'],\n",
       " ['Twentieth Century Fox Film Corporation',\n",
       "  'Santo Domingo Film & Music Video'],\n",
       " ['Mirage Enterprises'],\n",
       " ['American Zoetrope', 'Warner Bros.'],\n",
       " ['Savoy Pictures', 'Polar Entertainment'],\n",
       " ['Universal Pictures'],\n",
       " ['Shadowlands Productions', 'Savoy Pictures'],\n",
       " ['Miramax Films',\n",
       "  'Sarah Radclyffe Productions - Sirens Limited',\n",
       "  'British Screen Finance Ltd',\n",
       "  'Samson Productions II'],\n",
       " ['Paramount Pictures', 'Robert Evans Company'],\n",
       " ['Columbia Pictures Industries', 'Columbia Films S.A.'],\n",
       " ['Hollywood Pictures',\n",
       "  'Cinergi Pictures Entertainment',\n",
       "  'Allied Filmmakers',\n",
       "  'Walt Disney',\n",
       "  'Nintendo'],\n",
       " ['Hollywood Pictures',\n",
       "  'PolyGram Filmed Entertainment',\n",
       "  'Interscope Communications',\n",
       "  'Nomura Babcock & Brown'],\n",
       " ['Tim Burton Productions',\n",
       "  'Skellington Productions Inc.',\n",
       "  'Touchstone Pictures'],\n",
       " ['Walt Disney Pictures', 'Caravan Pictures'],\n",
       " ['Davis-Films',\n",
       "  'August Entertainment',\n",
       "  'Warner Bros.',\n",
       "  'Morgan Creek Productions'],\n",
       " ['Warner Bros.', 'Morgan Creek Productions'],\n",
       " ['Columbia Pictures', 'Castle Rock Entertainment'],\n",
       " ['Fine Line Features', 'Swelter Films', 'Buckeye Films'],\n",
       " ['Universal Pictures', 'Amblin Entertainment', 'King World Entertainment'],\n",
       " ['Paramount Pictures'],\n",
       " ['Paramount Pictures'],\n",
       " ['Walt Disney Productions'],\n",
       " ['Trimark Pictures'],\n",
       " ['Twentieth Century Fox Film Corporation', 'Ubu Productions'],\n",
       " ['Twentieth Century Fox Film Corporation',\n",
       "  'Fox 2000 Pictures',\n",
       "  'Via Rosa Productions',\n",
       "  'Rosa Productions'],\n",
       " ['Propaganda Films', 'PolyGram Filmed Entertainment'],\n",
       " ['PolyGram Filmed Entertainment', 'Working Title Films'],\n",
       " ['Canadian Film Development Corporation (CFDC)'],\n",
       " ['Miramax Films', 'Dimension Films', 'Trans Atlantic Entertainment'],\n",
       " ['Miramax Films', 'The Chess Club'],\n",
       " ['Walt Disney Productions'],\n",
       " ['Universal Pictures'],\n",
       " ['New Line Cinema', 'Savoy Pictures'],\n",
       " ['Columbia Pictures Corporation', 'The Vault', 'WF/X'],\n",
       " ['United Artists'],\n",
       " ['Imagine Entertainment', 'Universal Pictures'],\n",
       " ['Marvin Worth Productions',\n",
       "  'ABC Productions',\n",
       "  'Warner Bros.',\n",
       "  'Morgan Creek Productions'],\n",
       " ['Twentieth Century Fox Film Corporation', 'Davis Entertainment'],\n",
       " ['Hollywood Pictures', 'PolyGram Filmed Entertainment', 'Island Pictures'],\n",
       " ['Walt Disney Pictures', 'Allied Filmmakers'],\n",
       " ['Imagine Entertainment', 'Universal Pictures'],\n",
       " ['FM Entertainment International N.V.'],\n",
       " ['Warner Bros. Family Entertainment',\n",
       "  'Northern Lights Entertainment',\n",
       "  'Courtside Seats Productions'],\n",
       " ['Paramount Pictures',\n",
       "  'Dino de Laurentiis Cinematografica',\n",
       "  'Marianne Productions'],\n",
       " ['TriStar Pictures'],\n",
       " ['Live Entertainment'],\n",
       " ['Fine Line Features', 'Jersey Films'],\n",
       " ['New Line Cinema'],\n",
       " ['Maurice McEndree Productions',\n",
       "  'Walter Reade Organization Inc.',\n",
       "  'Faces International Films'],\n",
       " ['Universal Pictures',\n",
       "  'Signature Pictures',\n",
       "  'MDP Worldwide',\n",
       "  'Selima Films AVV'],\n",
       " ['Metro-Goldwyn-Mayer (MGM)'],\n",
       " ['Twentieth Century Fox Film Corporation', 'Noon Attack Pictures'],\n",
       " ['Walt Disney Pictures', 'Silver Screen Partners III'],\n",
       " ['Caravan Pictures', 'Hollywood Pictures'],\n",
       " ['Universal Pictures', 'The Bubble Factory', 'American Films'],\n",
       " ['Columbia Pictures Corporation'],\n",
       " ['Columbia Pictures'],\n",
       " ['Twentieth Century Fox Film Corporation',\n",
       "  'Atman Entertainment',\n",
       "  'Fred Berner Films'],\n",
       " ['New Line Cinema',\n",
       "  'The Rank Organisation',\n",
       "  'Ruddy Morgan Productions',\n",
       "  'PVM Entertainment',\n",
       "  'Savoy Pictures'],\n",
       " ['Canal+',\n",
       "  'Silvio Berlusconi Communications',\n",
       "  'Fonds Eurimages du Conseil de l Europe',\n",
       "  'Urania Film',\n",
       "  'K.G Productions',\n",
       "  'Audifilm',\n",
       "  'Bibo Productions'],\n",
       " ['Universal Pictures',\n",
       "  'Amblin Entertainment',\n",
       "  'Warner Bros.',\n",
       "  'Constant c Productions'],\n",
       " ['Paramount Pictures', 'Spelling Films'],\n",
       " ['Hollywood Pictures'],\n",
       " ['Aardman Animations'],\n",
       " ['Live Entertainment', 'Steelwork Films', 'Mediaworks'],\n",
       " ['Hawk Films', 'Columbia Pictures Corporation'],\n",
       " ['Universal Pictures', 'Bregman/Baer Productions', 'Universal City Studios'],\n",
       " ['Paramount Pictures', 'Village Roadshow Pictures', 'The Ladd Company'],\n",
       " ['Columbia Pictures', 'Castle Rock Entertainment'],\n",
       " ['Playhouse International Pictures',\n",
       "  'BBC Arena',\n",
       "  'Samuel Goldwyn Company, The'],\n",
       " ['Miramax Films',\n",
       "  'Channel Four Films',\n",
       "  'Noel Gay Motion Picture Company',\n",
       "  'Figment Films',\n",
       "  'Film4'],\n",
       " ['Twentieth Century Fox Film Corporation', 'Centropolis Entertainment'],\n",
       " ['TriStar Pictures', 'Mandalay Entertainment'],\n",
       " ['Columbia Pictures Corporation'],\n",
       " ['Kopelson Entertainment', 'Warner Bros.'],\n",
       " ['Universal Pictures', 'Davis Entertainment'],\n",
       " ['WingNut Films', 'Universal Pictures'],\n",
       " ['Paramount Pictures', 'Rastar Pictures', 'Nickelodeon Movies'],\n",
       " ['Touchstone Pictures'],\n",
       " ['Regency Enterprises', 'Warner Bros.'],\n",
       " ['Castle Rock Entertainment', 'Columbia Pictures Corporation', 'Fuchs/Burg'],\n",
       " ['Metro-Goldwyn-Mayer (MGM)'],\n",
       " ['United Artists',\n",
       "  'Trilogy Entertainment Group',\n",
       "  'Majestic Films International'],\n",
       " ['Paramount Pictures'],\n",
       " ['New Line Cinema', 'The Kushner-Locke Company', 'Savoy Pictures'],\n",
       " ['Scott Rudin Productions'],\n",
       " ['Killer Films', 'British Broadcasting Corporation (BBC)', 'BBC Arena'],\n",
       " ['Touchstone Pictures', 'Brian Grazer/Scott Rudin Productions'],\n",
       " ['TriStar Pictures'],\n",
       " ['Twentieth Century Fox Film Corporation',\n",
       "  'Chicago Pacific Entertainment',\n",
       "  'Zanuck Company, The'],\n",
       " ['Jersey Films', 'TriStar Pictures'],\n",
       " ['Miramax Films'],\n",
       " ['Metro-Goldwyn-Mayer (MGM)', 'Rysher Entertainment'],\n",
       " ['Castle Rock Entertainment'],\n",
       " ['Paramount Pictures', 'Alfran Productions'],\n",
       " ['Regency Enterprises', 'Warner Bros.'],\n",
       " ['Ixtlan Productions', 'Breakheart Films'],\n",
       " ['New Line Cinema'],\n",
       " ['Universal Pictures', 'Gramercy Pictures', 'Amblin Entertainment'],\n",
       " ['Regency Enterprises', 'Yorktown Productions', 'Warner Bros.'],\n",
       " ['Universal Pictures'],\n",
       " ['Universal Cartoon Studios'],\n",
       " ['Miramax Films'],\n",
       " ['Metro-Goldwyn-Mayer (MGM)'],\n",
       " ['Metro-Goldwyn-Mayer (MGM)'],\n",
       " ['Paramount Pictures', 'Alfred J. Hitchcock Productions'],\n",
       " ['Paramount Pictures'],\n",
       " ['United Artists', 'The Mirisch Company'],\n",
       " ['The Mirisch Corporation', 'Ashton Productions'],\n",
       " ['Warner Bros.'],\n",
       " ['Warner Bros.'],\n",
       " ['Paramount Pictures'],\n",
       " ['Paramount Pictures'],\n",
       " ['Twentieth Century Fox Film Corporation'],\n",
       " ['Loew s', 'Metro-Goldwyn-Mayer (MGM)'],\n",
       " ['Loew s Incorporated'],\n",
       " ['Selznick International Pictures', 'Metro-Goldwyn-Mayer (MGM)'],\n",
       " ['Brooksfilms', 'Metro-Goldwyn-Mayer (MGM)'],\n",
       " ['Paramount Pictures'],\n",
       " ['Metro-Goldwyn-Mayer (MGM)'],\n",
       " ['Metro-Goldwyn-Mayer (MGM)'],\n",
       " ['Warner Bros.'],\n",
       " ['Twentieth Century Fox Film Corporation'],\n",
       " ['RKO Radio Pictures'],\n",
       " ['United Artists'],\n",
       " ['Universal Pictures'],\n",
       " ['Warner Bros.'],\n",
       " ['Columbia Pictures'],\n",
       " ['RKO Radio Pictures'],\n",
       " ['Warner Bros.'],\n",
       " ['Superior Pictures', 'Lewis Milestone Productions'],\n",
       " ['Laurel Group', 'Off Color Films', 'Image Ten', 'Market Square Productions'],\n",
       " ['Santana Pictures Corporation', 'Romulus Films', 'Rizzoli-Haggiag'],\n",
       " ['Avon Production', 'Metro-Goldwyn-Mayer (MGM)'],\n",
       " ['Paramount Pictures'],\n",
       " ['Columbia Pictures', 'Sandollar Productions'],\n",
       " ['Universal Pictures', 'Cappa Productions', 'Gramercy Pictures (II)'],\n",
       " ['Geffen Pictures', 'Warner Bros.'],\n",
       " ['Rysher Entertainment'],\n",
       " ['New Line Cinema', 'Metropolitan Filmexport'],\n",
       " ['New Line Cinema'],\n",
       " ['Warner Bros.', 'Seagal/Nasso Productions'],\n",
       " ['Walt Disney'],\n",
       " ['Imagine Entertainment', 'Universal Pictures', 'Davis Entertainment'],\n",
       " ['Walt Disney Productions'],\n",
       " ['Walt Disney Productions'],\n",
       " ['Walt Disney Productions'],\n",
       " ['Walt Disney Productions'],\n",
       " ['Walt Disney Pictures', 'Touchwood Pacific Partners 1'],\n",
       " ['Walt Disney Productions'],\n",
       " ['Walt Disney Productions'],\n",
       " ['RKO Radio Pictures', 'Walt Disney Productions'],\n",
       " ['Walt Disney Productions'],\n",
       " ['Warner Bros.', 'Morgan Creek Productions'],\n",
       " ['Walt Disney Productions'],\n",
       " ['RKO Radio Pictures', 'Walt Disney Productions'],\n",
       " ['Walt Disney Productions'],\n",
       " ['Walt Disney Productions'],\n",
       " ['RKO Radio Pictures', 'Walt Disney Productions'],\n",
       " ['Walt Disney Productions'],\n",
       " ['The Kushner-Locke Company',\n",
       "  'August Entertainment',\n",
       "  'Multicom entertainment'],\n",
       " ['Twentieth Century Fox Film Corporation',\n",
       "  'Gordon Company',\n",
       "  'Silver Pictures'],\n",
       " ['New Line Cinema', 'Allied Vision'],\n",
       " ['Channel Four Films', 'October Films', 'CiBy 2000', 'Thin Man Films'],\n",
       " ['Twentieth Century Fox Film Corporation',\n",
       "  'Clinica Estetico',\n",
       "  'Clavius Base'],\n",
       " ['Rastar Pictures', 'Triumph Films'],\n",
       " ['Merchant Ivory Productions'],\n",
       " ['Channel Four Films', 'World Productions'],\n",
       " ['New Line Cinema', 'Forge', 'The Steve Tisch Company'],\n",
       " ['Constellation Films', 'Paramount'],\n",
       " ['Twentieth Century Fox Film Corporation',\n",
       "  'Jam Productions',\n",
       "  'Chal Productions'],\n",
       " ['Miramax Films'],\n",
       " ['Miramax Films',\n",
       "  'Independent Pictures (II)',\n",
       "  'The Alfred Shay Company Inc.'],\n",
       " ['Propaganda Films', 'Warner Bros.', 'Baltimore Pictures'],\n",
       " ['RKO Radio Pictures'],\n",
       " ['United Artists', 'Jack Rollins & Charles H. Joffe Productions'],\n",
       " ['HandMade Films', 'Python (Monty) Pictures'],\n",
       " ['Warner Bros.', 'Redford-Ritchie Productions'],\n",
       " ['Warner Bros.'],\n",
       " ['Tatira-Hiller Productions', 'Warner Brothers/Seven Arts'],\n",
       " ['Warner Bros.', 'Leland Hayward Productions'],\n",
       " ['Warner Bros.'],\n",
       " ['Live Entertainment', 'Lionsgate', 'Dog Eat Dog Productions Inc.'],\n",
       " ['TriStar Pictures', 'Canal+', 'Carolco Pictures'],\n",
       " ['Imagine Entertainment',\n",
       "  'Ixtlan Productions',\n",
       "  'Carolco Pictures',\n",
       "  'Bill Graham Films'],\n",
       " ['Miramax Films',\n",
       "  'Channel Four Films',\n",
       "  'Palace Pictures',\n",
       "  'Nippon Film Development and Finance Inc.',\n",
       "  'Eurotrustees',\n",
       "  'British Screen Productions'],\n",
       " ['New Line Cinema', 'GGR', 'Zupnik Cinema Group II'],\n",
       " ['Universal Pictures', 'Amblin Entertainment'],\n",
       " ['Loew s', 'Metro-Goldwyn-Mayer (MGM)'],\n",
       " ['Paramount Pictures', 'Don Simpson/Jerry Bruckheimer Films'],\n",
       " ['Warner Bros.'],\n",
       " ['Universal Pictures', 'Hollywood Pictures', 'Interscope Communications'],\n",
       " ['Sony Pictures'],\n",
       " ['Woodward Productions', 'Weiny Bro Prods.'],\n",
       " ['Universal Pictures'],\n",
       " ['PolyGram Filmed Entertainment'],\n",
       " ['Twentieth Century Fox Film Corporation',\n",
       "  'Lightstorm Entertainment',\n",
       "  'Pacific Western'],\n",
       " ['AVCO Embassy Pictures',\n",
       "  'Goldcrest Films International',\n",
       "  'International Film Investors',\n",
       "  'City Film'],\n",
       " ['AVCO Embassy Pictures',\n",
       "  'International Film Investors',\n",
       "  'Wescom Productions'],\n",
       " ['Warner Bros.'],\n",
       " ['PolyGram Filmed Entertainment', 'David Sonenberg Production', 'Das Films'],\n",
       " ['Aardman Animations'],\n",
       " ['Rysher Entertainment'],\n",
       " ['Rai Tre Radiotelevisione Italiana'],\n",
       " ['Elsevira', 'Erbograph Co.', 'Vendex'],\n",
       " ['Miramax Films', 'BBC Films', 'Greenpoint Films'],\n",
       " ['United Artists', 'Bryna Productions'],\n",
       " ['Miramax Films', 'Cineplex-Odeon Films'],\n",
       " ['Miramax Films', 'Outlaw Productions', 'Virgin'],\n",
       " ['Third Floor Productions'],\n",
       " ['United Artists', 'Fantasy Films', 'Warner Bros.'],\n",
       " ['Paramount Pictures'],\n",
       " ['Lucasfilm', 'Twentieth Century Fox Film Corporation'],\n",
       " ['Act III Communications', 'The Princess Bride Ltd.', 'Buttercup Films Ltd.'],\n",
       " ['Twentieth Century Fox Film Corporation',\n",
       "  'SLM Production Group',\n",
       "  'Brandywine Productions'],\n",
       " ['United Artists', 'Orion-Nova Productions'],\n",
       " ['Hawk Films', 'Warner Bros.'],\n",
       " ['Universal Pictures'],\n",
       " ['Paramount Pictures', 'Rafran Cinematografica', 'Finanzia San Marco'],\n",
       " ['Lucasfilm', 'Twentieth Century Fox Film Corporation'],\n",
       " ['Universal Pictures',\n",
       "  'Renaissance Pictures',\n",
       "  'Metro-Goldwyn-Mayer (MGM)',\n",
       "  'Dino De Laurentiis Company'],\n",
       " ['United Artists'],\n",
       " ['Universal Pictures'],\n",
       " ['Channel Four Films',\n",
       "  'Zenith Entertainment',\n",
       "  'Republic Pictures (II)',\n",
       "  'True Fiction Pictures'],\n",
       " ['Svensk Filmindustri (SF)', 'The Criterion Collection'],\n",
       " ['Orion Pictures',\n",
       "  'Pacific Western',\n",
       "  'Hemdale Film',\n",
       "  'Cinema 84',\n",
       "  'Euro Film Funding'],\n",
       " ['WingNut Films', 'New Zealand Film Commission', 'Avalon/NFU Studios'],\n",
       " ['TriStar Pictures', 'Freddie Fields Productions'],\n",
       " ['Brandenberg', 'WNET Channel 13 New York'],\n",
       " ['United Artists', 'Jack Rollins & Charles H. Joffe Productions'],\n",
       " ['Twentieth Century Fox Film Corporation', 'Circle Films'],\n",
       " ['Touchstone Pictures', 'Silver Screen Partners IV'],\n",
       " ['Lawrence Turman'],\n",
       " ['Warner Bros.'],\n",
       " ['WingNut Films', 'New Zealand Film Commission'],\n",
       " ['Paramount Pictures'],\n",
       " ['CBS Entertainment Productions', 'A&M Films'],\n",
       " ['Hawk Films', 'Warner Bros.', 'Peregrine'],\n",
       " ['Columbia Pictures', 'Act III Communications', 'The Body', 'Act III'],\n",
       " ['Nero-Film AG'],\n",
       " ['Malpaso Productions', 'Warner Bros.'],\n",
       " ['Warner Bros.'],\n",
       " ['Twentieth Century Fox Film Corporation'],\n",
       " ['Island Pictures',\n",
       "  'The Criterion Collection',\n",
       "  'Black Snake',\n",
       "  'Grokenberger Film Produktion'],\n",
       " ['Davis-Panzer Productions', 'Thorn EMI Screen Entertainment'],\n",
       " ['Warner Bros.', 'Jalem Productions'],\n",
       " ['Twentieth Century Fox Film Corporation',\n",
       "  'Crossbow Productions',\n",
       "  'Gruskoff/Venture Films',\n",
       "  'Jouer Limited'],\n",
       " ['United Artists', 'Roy Export Company Establishment'],\n",
       " ['Walt Disney Pictures'],\n",
       " ['United Artists', 'Stanley Kramer Productions'],\n",
       " ['Warner Bros.'],\n",
       " ['Metro-Goldwyn-Mayer (MGM)'],\n",
       " ['Spinal Tap Prod.'],\n",
       " ['IRE Productions', 'Santa Fe Institute for Regional Education'],\n",
       " ['United Artists', 'Lorimar Film Entertainment'],\n",
       " ['The Saul Zaentz Company'],\n",
       " ['TriStar Pictures', 'Delphi III Productions'],\n",
       " ['Universal Studios'],\n",
       " ['Persky-Bright Productions', 'Devon'],\n",
       " ['Channel Four Films',\n",
       "  'Pro-ject Filmproduktion',\n",
       "  'Argos Films',\n",
       "  'Westdeutscher Rundfunk (WDR)',\n",
       "  'Road Movies Filmproduktion',\n",
       "  'Wim Wenders Stiftung'],\n",
       " ['Castle Rock Entertainment', 'Nelson Entertainment'],\n",
       " ['Helvey-Pray Production'],\n",
       " ['Degeto Film', 'Kinowelt Filmproduktion', 'Mindy Affrime'],\n",
       " ['Bruin Grip Services'],\n",
       " ['Skreba Films'],\n",
       " ['Universal Pictures',\n",
       "  'Guber/Peters Company',\n",
       "  'American Werewolf Inc.',\n",
       "  'Lyncanthrope Films'],\n",
       " ['De Laurentiis Entertainment Group (DEG)'],\n",
       " ['Zeta Entertainment', 'Promark Entertainment Group', 'Spectacor Films'],\n",
       " ['A. Ninety-Three Productions'],\n",
       " ['Dino De Laurentiis Company', 'Media Transactions'],\n",
       " ['American International Pictures (AIP)'],\n",
       " ['Allegro Films', 'CFCF-TV'],\n",
       " ['Compagnia Cinematografica Champion', 'Andy Warhol Productions'],\n",
       " ['Paramount Pictures', 'Hometown Films', 'YCTM'],\n",
       " ['Alfred J. Hitchcock Productions'],\n",
       " ['Paramount Pictures', 'Tonylyn Productions'],\n",
       " ['Vista Street Entertainment'],\n",
       " ['RKO Radio Pictures'],\n",
       " ['Universal Pictures'],\n",
       " ['Melville-Talbot Productions'],\n",
       " ['United Artists'],\n",
       " ['Universal Pictures', 'RKO Pictures'],\n",
       " ['New Line Cinema', 'Smart Egg Pictures'],\n",
       " ['Trust Film', 'Danish Film Institute'],\n",
       " ['Michael Obel Productions'],\n",
       " ['Paramount Pictures', 'Digital Image Associates'],\n",
       " ['Fine Line Features',\n",
       "  'Australian Film Finance Corporation (AFFC)',\n",
       "  'Film Victoria',\n",
       "  'South Australian Feature Film Company'],\n",
       " ['Miramax Films'],\n",
       " ['Twentieth Century Fox Film Corporation'],\n",
       " ['Walt Disney Pictures', 'Great Oaks Entertainment'],\n",
       " ['Paramount Pictures'],\n",
       " ['Paramount Pictures'],\n",
       " ['Paramount Pictures'],\n",
       " ['Paramount Pictures'],\n",
       " ['Paramount Pictures'],\n",
       " ['Morgan Creek Productions'],\n",
       " ['Paramount Pictures'],\n",
       " ['Twentieth Century Fox Film Corporation',\n",
       "  'Steamroller Productions',\n",
       "  'Victor & Grais Productions'],\n",
       " ['Filmwerks'],\n",
       " ['Regency Enterprises', 'Alcor Films', 'Canal+', 'Warner Bros.'],\n",
       " ['Universal Pictures', 'Zanuck/Brown Productions'],\n",
       " ['Universal Pictures', 'Alan Landsburg Productions', 'MCA  Theatricals'],\n",
       " ['Twentieth Century Fox Film Corporation', 'Circle Films'],\n",
       " ['Touchstone Pictures', 'Silver Screen Partners II'],\n",
       " ['Columbia Pictures', 'Castle Rock Entertainment'],\n",
       " ['Paramount Pictures', 'Spelling Films'],\n",
       " ['Woods Entertainment', 'Dimension Films'],\n",
       " ['Paramount Pictures', 'Rysher Entertainment'],\n",
       " ['Castle Rock Entertainment', 'Turner Pictures (I)'],\n",
       " ['Paramount Pictures', 'Scott Rudin Productions'],\n",
       " ['Si Litvinoff Film Production', 'Max L. Raab Productions'],\n",
       " ['Universal Pictures', 'Jersey Films', 'Fish Productions'],\n",
       " ['Metro-Goldwyn-Mayer (MGM)', 'Rysher Entertainment'],\n",
       " ['TriStar Pictures', 'Motion Picture Corporation of America'],\n",
       " ['Caravan Pictures', 'Touchstone Pictures'],\n",
       " ['Zweites Deutsches Fernsehen (ZDF)',\n",
       "  'Neue Constantin Film',\n",
       "  'Laurentic Film Productions',\n",
       "  'Torii Production'],\n",
       " ['Universal Pictures', 'Pacific Western'],\n",
       " ['Universal Pictures', 'The Bubble Factory', 'Sheinberg Productions'],\n",
       " ['PolyGram Filmed Entertainment'],\n",
       " ['Sony Pictures Classics',\n",
       "  'Castle Rock Entertainment',\n",
       "  'Pale Morning Dun',\n",
       "  'All Night Productions'],\n",
       " ['Paramount Pictures'],\n",
       " ['Castle Rock Entertainment', 'Detour Filmproduction'],\n",
       " ['TriStar Pictures', 'The Bubble Factory'],\n",
       " ['Columbia Pictures'],\n",
       " ['Columbia Pictures'],\n",
       " ['Walt Disney Pictures'],\n",
       " ['Paramount Pictures', 'Rysher Entertainment'],\n",
       " ['Fox Searchlight Pictures'],\n",
       " ['Fine Line Features', 'Alliance Communications'],\n",
       " ['Imagine Entertainment', 'Universal Pictures'],\n",
       " ['Columbia Pictures'],\n",
       " ['Warner Bros. Pictures',\n",
       "  'David Kirschner Productions',\n",
       "  'Turner Feature Animation'],\n",
       " ['New Line Cinema', 'Island Pictures'],\n",
       " ['Twentieth Century Fox Film Corporation',\n",
       "  'Saban Entertainment',\n",
       "  'Toei Company'],\n",
       " ['Columbia Pictures', 'Mandalay Entertainment'],\n",
       " ['Fox 2000 Pictures'],\n",
       " ['Columbia Pictures Corporation',\n",
       "  'Middle Fork Productions',\n",
       "  'Iguana Producciones',\n",
       "  'Skylight Cinema Foto Art',\n",
       "  'St. Tropez Films',\n",
       "  'Cinema Line Film Corporation'],\n",
       " ['Caravan Pictures', 'Hollywood Pictures', 'Roger Birnbaum Productions'],\n",
       " ['British Columbia Film',\n",
       "  'Canada Council Media Arts',\n",
       "  'Boneyard Film Company Inc.'],\n",
       " ['New Line Cinema', 'Capella International', 'Eric s Boy'],\n",
       " ['Paramount Pictures', 'Dino De Laurentiis Company', 'Spelling Films'],\n",
       " ['Triumph Films', 'Higgins-Messick-Wayne', 'Ink Slinger Productions'],\n",
       " ['Columbia Pictures', 'Gaumont'],\n",
       " ['Warner Bros.', 'Outlaw Productions (I)', 'Miramax'],\n",
       " ['Miramax Films', 'Channel Four Films', 'Prominent Features'],\n",
       " ['Universal Pictures', 'Amblin Entertainment'],\n",
       " ['Bruin Grip Services',\n",
       "  'Good Dog Productions LLC',\n",
       "  'Utopia Pictures',\n",
       "  'Zeta Entertainment'],\n",
       " ['Columbia Pictures', 'Jim Henson Company, The', 'Jim Henson Pictures'],\n",
       " ['Jerry Bruckheimer Films',\n",
       "  'Kouf/Bigelow Productions',\n",
       "  'Touchstone Pictures',\n",
       "  'Hiett Designs of Las Vegas',\n",
       "  'Runway Pictures Inc'],\n",
       " ['PolyGram Filmed Entertainment', 'Warner Bros.'],\n",
       " ['Fine Line Features', 'Tig Productions', 'Majestic Films International'],\n",
       " ['Paramount Pictures',\n",
       "  'Permut Presentations',\n",
       "  'WCG Entertainment Productions',\n",
       "  'Douglas/Reuther Productions',\n",
       "  'Touchstone Pictures',\n",
       "  'Krane Entertainment'],\n",
       " ['Twentieth Century Fox Film Corporation', 'Davis Entertainment'],\n",
       " ['Morgan Creek Productions'],\n",
       " ['Universal Pictures', 'The Bubble Factory'],\n",
       " ['Warner Bros.', 'South Side Amusement Company'],\n",
       " ['Paramount Pictures', 'Impact Pictures', 'Golar Productions'],\n",
       " ['Alliance Atlantis Communications', 'Fair and Square Productions'],\n",
       " ['Channel Four Films', 'Thin Man Films', 'Matrix Films'],\n",
       " ['Silver Pictures', 'Warner Bros.', 'Donner/Shuler-Donner Productions'],\n",
       " ['TriStar Pictures', 'Mandalay Entertainment'],\n",
       " ['Quincy Jones-David Salzman Entertainment',\n",
       "  'Warner Bros.',\n",
       "  'DC Entertainment'],\n",
       " ['Miramax Films'],\n",
       " ['United Artists Pictures'],\n",
       " ['Universal Pictures'],\n",
       " ['Miramax Films', 'Dimension Films'],\n",
       " ['Columbia Pictures Corporation'],\n",
       " ['Universal Pictures',\n",
       "  'Korsala Productions',\n",
       "  'Raffaella De Laurentiis Productions'],\n",
       " ['Fine Line Features'],\n",
       " ['Capitol Films', 'Redeemable Features'],\n",
       " ['TriStar Pictures',\n",
       "  'Mandalay Entertainment',\n",
       "  'Applecross',\n",
       "  'Reperage & Vanguard Films'],\n",
       " ['Fox 2000 Pictures', 'Edmonds Entertainment Group (EEG)'],\n",
       " ['Live Entertainment', 'Image Organization', 'Pierre David'],\n",
       " ['Warner Bros.', 'Seagal/Nasso Productions'],\n",
       " ['Illusion Entertainment Group',\n",
       "  'Phoenix Pictures',\n",
       "  'Clyde Is Hungry Films',\n",
       "  'Canal+ Droits Audiovisuels'],\n",
       " ['Good Film Company'],\n",
       " ['Fox Searchlight Pictures', 'Good Machine', 'Canal+ Droits Audiovisuels'],\n",
       " ['Miramax Films', 'View Askew Productions'],\n",
       " ['Channel Four Films',\n",
       "  'Twentieth Century Fox Film Corporation',\n",
       "  'Redwave Films'],\n",
       " ['Miramax Films', 'WGBH', 'BBC Scotland', 'Mobile Masterpiece Theatre'],\n",
       " ['Columbia Pictures Corporation',\n",
       "  'Mandalay Entertainment',\n",
       "  'Summer Knowledge LLC'],\n",
       " ['Columbia Pictures', 'Jersey Films'],\n",
       " ['Miramax Films', 'Dimension Films'],\n",
       " ['Channel Four Films',\n",
       "  'Figment Films',\n",
       "  'PolyGram Filmed Entertainment',\n",
       "  'Aaargh! Animation'],\n",
       " ['Paramount Pictures', 'Pacific Western', 'Rysher Entertainment'],\n",
       " ['Tiger Aspect Productions',\n",
       "  'PolyGram Filmed Entertainment',\n",
       "  'Working Title Films'],\n",
       " ['Nomadic Pictures', 'BMG Independents'],\n",
       " ['Paramount Pictures', 'Constellation Entertainment'],\n",
       " ['New Line Cinema', 'Ghoulardi Film Company', 'Lawrence Gordon Productions'],\n",
       " ['Paramount Pictures'],\n",
       " ['New Line Cinema', 'Threshold Entertainment'],\n",
       " ['Paramount Pictures', 'Scott Rudin Productions'],\n",
       " ['Miramax Films'],\n",
       " ['Regency Enterprises', 'Taurus Films', 'Polar Productions', 'Warner Bros.'],\n",
       " ['Butcher s Run Productions'],\n",
       " ['Channel Four Films', 'ASK Kodansha', 'NDF Inc.'],\n",
       " ['Walt Disney Pictures', 'Great Oaks Entertainment'],\n",
       " ['Universal Pictures',\n",
       "  'Yorktown Productions',\n",
       "  'The Bubble Factory',\n",
       "  'Sheinberg Productions'],\n",
       " ['Miramax Films',\n",
       "  'Lawrence Bender Productions',\n",
       "  'Be Gentlemen Limited Partnership'],\n",
       " ['Twentieth Century Fox Film Corporation', 'Hughes Entertainment'],\n",
       " ['DreamWorks'],\n",
       " ['Miramax Films',\n",
       "  'Konrad Pictures',\n",
       "  'Maven Entertainment',\n",
       "  'Dimension Films'],\n",
       " ['Wildwood Enterprises', 'Touchstone Pictures'],\n",
       " ['Twentieth Century Fox Film Corporation', 'Art Linson Productions'],\n",
       " ['Twentieth Century Fox Film Corporation'],\n",
       " ['New Line Cinema', 'Tribeca Productions', 'Baltimore Pictures'],\n",
       " ['New Line Cinema', 'Mystery Clock Cinema'],\n",
       " ['Trimark Pictures', 'Manny Coto Productions'],\n",
       " ['Atlas Entertainment', 'Turner Pictures (I)'],\n",
       " ['Arts Council of England',\n",
       "  'National Lottery',\n",
       "  'Gruber Bros.',\n",
       "  'Tomboy Films',\n",
       "  'Winchester Multimedia PLC'],\n",
       " ['Columbia Pictures Corporation'],\n",
       " ['New Amsterdam Entertainment', 'Medusa Film', 'Stardust International'],\n",
       " ['Punch Productions',\n",
       "  'Warner Bros.',\n",
       "  'Baltimore Pictures',\n",
       "  'Constant c Productions'],\n",
       " ['Paramount Pictures', 'Scott Rudin Productions', 'Cinehaus'],\n",
       " ['Kopelson Entertainment', 'Warner Bros.'],\n",
       " ['Arts Council of England',\n",
       "  'British Broadcasting Corporation (BBC)',\n",
       "  'British Screen Productions'],\n",
       " ['TriStar Pictures'],\n",
       " ['Twentieth Century Fox Film Corporation', 'Detour Filmproduction'],\n",
       " ['Mandalay Entertainment'],\n",
       " ['Miramax Films', 'Woods Entertainment'],\n",
       " ['Fox Searchlight Pictures'],\n",
       " ['Twentieth Century Fox Film Corporation'],\n",
       " ['Walt Disney Pictures'],\n",
       " ['British Broadcasting Corporation (BBC)',\n",
       "  'Dog Eat Dog Films',\n",
       "  'Mayfair Entertainment International'],\n",
       " ['New Line Cinema',\n",
       "  'Irwin Allen Productions',\n",
       "  'Prelude Pictures',\n",
       "  'Saltire Entertainment'],\n",
       " ['Imagine Entertainment', 'Universal Pictures'],\n",
       " ['Jean Doumanian Productions',\n",
       "  'Sweetland Films',\n",
       "  'Magnolia Films',\n",
       "  'Jasmine Productions Inc.'],\n",
       " ['Atlas Entertainment',\n",
       "  'Regency Enterprises',\n",
       "  'Monarchy Enterprises B.V.',\n",
       "  'Warner Bros.',\n",
       "  'Taurus Film'],\n",
       " ['Castle Rock Entertainment',\n",
       "  'PolyGram Filmed Entertainment',\n",
       "  'Westerly Films'],\n",
       " ['Columbia Pictures', 'Castle Rock Entertainment'],\n",
       " ['40 Acres & A Mule Filmworks', 'Touchstone Pictures'],\n",
       " ['Island Pictures', 'Enchanter Entertainment'],\n",
       " ['Castle Rock Entertainment',\n",
       "  'Columbia Pictures Corporation',\n",
       "  'Manifest Film Company'],\n",
       " ['Working Title Films', 'Polygram Filmed Entertainment'],\n",
       " ['Constantin Film Produktion', 'Babelsberg Film', 'Celtridge'],\n",
       " ['Universal Pictures'],\n",
       " ['Touchstone Pictures'],\n",
       " ['Strength Ltd.'],\n",
       " ['Metro-Goldwyn-Mayer (MGM)'],\n",
       " ['Village Roadshow Pictures',\n",
       "  'Dieter Geissler Filmproduktion',\n",
       "  'Film Afrika Worldwide',\n",
       "  'Clipsal Films',\n",
       "  'Alta Vista'],\n",
       " ['Universal Pictures'],\n",
       " ['Paramount Pictures',\n",
       "  'DreamWorks SKG',\n",
       "  'Zanuck/Brown Productions',\n",
       "  'Manhattan Project'],\n",
       " ['The Rank Organisation', 'Toledo Pictures'],\n",
       " ['Warner Bros.'],\n",
       " ['Twentieth Century Fox Film Corporation'],\n",
       " ['Universal Pictures',\n",
       "  'Summit Entertainment',\n",
       "  'Rhino Films',\n",
       "  'Fear and Loathing LLC',\n",
       "  'Shark Productions'],\n",
       " ['DiNovi Pictures', 'Turner Pictures (I)'],\n",
       " ['Norsk Film', 'Nordic Screen Production AS', 'Norsk Filminstitutt'],\n",
       " ['New Zealand Film Commission', 'Essential Films'],\n",
       " ['Columbia Pictures'],\n",
       " ['Tritone Productions'],\n",
       " ['Shooting Gallery', 'True Fiction Pictures'],\n",
       " ['Joel Castleberg Productions'],\n",
       " ['Twentieth Century Fox Film Corporation', 'Ten Thirteen Productions'],\n",
       " ['Twentieth Century Fox Film Corporation',\n",
       "  'Joseph M. Singer Entertainment',\n",
       "  'Davis Entertainment'],\n",
       " ['Miramax Films', 'ShadowCatcher Entertainment'],\n",
       " ['TriStar Pictures'],\n",
       " ['Truth and Soul Pictures Inc',\n",
       "  'Protozoa Pictures',\n",
       "  'Harvest Filmworks',\n",
       "  'Plantain Films'],\n",
       " ['Twentieth Century Fox Film Corporation'],\n",
       " ['Reynolds Pictures'],\n",
       " ['Paramount Famous Lasky Corporation'],\n",
       " ['Metro-Goldwyn-Mayer (MGM)'],\n",
       " ['Metro-Goldwyn-Mayer (MGM)'],\n",
       " ['Metro-Goldwyn-Mayer (MGM)'],\n",
       " ['Warner Bros.'],\n",
       " ['Metro-Goldwyn-Mayer (MGM)'],\n",
       " ['Paramount'],\n",
       " ['Samuel Goldwyn Company, The'],\n",
       " ['Twentieth Century Fox Film Corporation'],\n",
       " ['Paramount Pictures'],\n",
       " ['Columbia Pictures Corporation'],\n",
       " ['Columbia Pictures', 'Horizon Pictures'],\n",
       " ['United Artists', 'Seven Arts', 'Mirisch Pictures'],\n",
       " ['Woodfall Film Productions'],\n",
       " ['United Artists', 'Mirisch Corporation, The'],\n",
       " ['Columbia Pictures Corporation',\n",
       "  'Warwick Film Productions',\n",
       "  'Romulus Films'],\n",
       " ['United Artists', 'Florin Productions', 'Jerome Hellman Productions'],\n",
       " ['United Artists'],\n",
       " ['Columbia Pictures'],\n",
       " ['Paramount Pictures', 'Wildwood Enterprises'],\n",
       " ['United Artists', 'Star Partners II Ltd.'],\n",
       " ['The Zanuck Company', 'Majestic Films International', 'Warner Bros.'],\n",
       " ['Palomar Pictures', 'American Broadcasting Company (ABC)'],\n",
       " ['Gus Productions', 'Warner Bros.'],\n",
       " ['Edge City'],\n",
       " ['Lucasfilm',\n",
       "  'TriStar Pictures',\n",
       "  'Jim Henson Company, The',\n",
       "  'Henson Associates (HA)'],\n",
       " ['Universal Pictures', 'Channel Productions', 'A&M Films'],\n",
       " ['New Line Cinema', 'Smart Egg Pictures'],\n",
       " ['New Line Cinema'],\n",
       " ['New Line Cinema'],\n",
       " ['New Line Cinema'],\n",
       " ['Paramount Pictures',\n",
       "  'Georgetown Productions Inc.',\n",
       "  'Sean S. Cunningham Films'],\n",
       " ['Paramount Pictures', 'Jason Productions'],\n",
       " ['Paramount Pictures', 'Sean S. Cunningham Films', 'Horror Inc.'],\n",
       " ['Compass International Pictures', 'Falcon International Productions'],\n",
       " ['Universal Pictures'],\n",
       " ['Dimension Films'],\n",
       " ['Trans Pacific Films'],\n",
       " ['Guardian Trust Company', 'Simcom Limited', 'Prom Night Productions'],\n",
       " ['SLM Production Group', 'Metro-Goldwyn-Mayer (MGM)'],\n",
       " ['Metro-Goldwyn-Mayer (MGM)'],\n",
       " ['Morgan Creek Productions'],\n",
       " ['Silver Pictures', 'Warner Bros.'],\n",
       " ['Silver Pictures', 'Warner Bros.'],\n",
       " ['Silver Pictures', 'Warner Bros.'],\n",
       " ['Amblin Entertainment', 'Warner Bros.'],\n",
       " ['Amblin Entertainment', 'TriStar Pictures'],\n",
       " ['Fox Searchlight Pictures',\n",
       "  'Lakeshore Entertainment',\n",
       "  'Addis Wechsler Pictures'],\n",
       " ['Metro-Goldwyn-Mayer (MGM)'],\n",
       " ['Paramount Pictures', 'Universum Film (UFA)'],\n",
       " ['Universal Pictures', 'Amblin Entertainment', 'U-Drive Productions'],\n",
       " ['Walt Disney Pictures'],\n",
       " ['Walt Disney Productions'],\n",
       " ['Walt Disney Productions'],\n",
       " ['Walt Disney Productions'],\n",
       " ['Walt Disney Productions'],\n",
       " ['Universal Pictures', 'Cineplex-Odeon Films'],\n",
       " ['Paramount Pictures'],\n",
       " ['Village Roadshow Pictures',\n",
       "  'Beacon Communications',\n",
       "  'Hoyts Film Partnership',\n",
       "  'Metro-Goldwyn-Mayer (MGM)',\n",
       "  'Behavioral Problem Productions Ltd.'],\n",
       " ['Tapestry Films', 'Touchstone Pictures'],\n",
       " ['Walt Disney Pictures', 'Silver Screen Partners II'],\n",
       " ['Walt Disney Pictures'],\n",
       " ['Walt Disney Productions'],\n",
       " ['Walt Disney Pictures'],\n",
       " ['Walt Disney Productions'],\n",
       " ['Amblin Entertainment', 'The Walt Disney Company'],\n",
       " ['Walt Disney Pictures',\n",
       "  'New Star Entertainment',\n",
       "  'Producers Sales Organization (PSO)'],\n",
       " ['Walt Disney Pictures', 'Silver Screen Partners II'],\n",
       " ['Walt Disney Productions'],\n",
       " ['Walt Disney Pictures'],\n",
       " ['Universal Pictures', 'Zucker Brothers Productions'],\n",
       " ['RKO Radio Pictures'],\n",
       " ['Sveriges Television (SVT)',\n",
       "  'Cinematograph AB',\n",
       "  'Svenska Filminstitutet (SFI)',\n",
       "  'Tobis Filmkunst'],\n",
       " ['Imagine Entertainment'],\n",
       " ['Amblin Entertainment', 'Warner Bros.'],\n",
       " ['Ital-Noleggio Cinematografico', 'Lotar Film Productions'],\n",
       " ['De Laurentiis Entertainment Group (DEG)'],\n",
       " ['Walt Disney Productions'],\n",
       " ['Walt Disney'],\n",
       " ['Walt Disney Pictures', 'Jim Henson Company, The'],\n",
       " ['Walt Disney Pictures', 'Touchwood Pacific Partners 1'],\n",
       " ['Walt Disney Pictures', 'Telefilm Canada', 'Silver Screen Partners II'],\n",
       " ['RKO Radio Pictures', 'Walt Disney Productions'],\n",
       " ['Silver Screen Partners II', 'Oz Productions Ltd.'],\n",
       " ['Walt Disney Pictures'],\n",
       " ['Walt Disney Pictures', 'Bryna Productions'],\n",
       " ['Walt Disney'],\n",
       " ['Touchstone Pictures'],\n",
       " ['Walt Disney Pictures', 'Caravan Pictures'],\n",
       " ['Walt Disney Pictures', 'Lisberger/Kushner'],\n",
       " ['Hollywood Pictures', 'Touchwood Pacific Partners 1'],\n",
       " ['Dimension Films'],\n",
       " ['TriStar Pictures', 'L.A. Films', 'Carolco Pictures'],\n",
       " ['Universal Pictures', 'Aspen Film Society'],\n",
       " ['Universal Pictures', 'Aspen Film Society'],\n",
       " ['Warner Bros.'],\n",
       " ['Twentieth Century Fox Film Corporation'],\n",
       " ['Paramount Pictures', 'Graveyard Productions', 'JVC Entertainment Networks'],\n",
       " ['American Zoetrope', 'Warner Bros.'],\n",
       " ['United Artists', 'Fantasy Films'],\n",
       " ['Umbrella-Rosenblum Film Production',\n",
       "  'Atlantic Releasing Corporation',\n",
       "  'Virgin Benelux',\n",
       "  'Virgin Schallplatten'],\n",
       " ['New Line Cinema', 'Castle Rock Entertainment'],\n",
       " ['United Artists', 'Goldcrest Films International', 'Sullivan Bluth Studios'],\n",
       " ['Paramount Pictures', 'Orion Pictures', 'Scott Rudin Productions'],\n",
       " ['Silver Screen Partners III', 'Touchstone Pictures'],\n",
       " ['Universal Studios'],\n",
       " ['AVCO Embassy Pictures', 'Nepenthe Productions', 'Watership Productions'],\n",
       " ['Universal Pictures',\n",
       "  'Jim Henson Productions',\n",
       "  'Incorporated Television Company (ITC)',\n",
       "  'Henson Associates (HA)'],\n",
       " ['Universal Pictures', 'Amblin Entertainment'],\n",
       " ['Universal Pictures', 'Amblin Entertainment', 'Amblimation'],\n",
       " ['Universal Pictures'],\n",
       " ['Paramount Pictures'],\n",
       " ['The Guber-Peters Company',\n",
       "  'Warner Bros.',\n",
       "  'Producers Sales Organization (PSO)',\n",
       "  'Jonesfilm',\n",
       "  'The Jozak Company',\n",
       "  'Decade'],\n",
       " ['New World Pictures'],\n",
       " ['Dimension Films'],\n",
       " ['Jerry Weintraub Productions', 'Warner Bros.'],\n",
       " ['Twentieth Century Fox Film Corporation'],\n",
       " ['Maljack Productions'],\n",
       " ['Producers Sales Organization',\n",
       "  'Bavaria Film',\n",
       "  'Dieter Geissler Filmproduktion',\n",
       "  'Warner Bros.',\n",
       "  'Westdeutscher Rundfunk (WDR)',\n",
       "  'Bavaria Studios'],\n",
       " ['Four Square Productions'],\n",
       " ['Propaganda Films', 'PolyGram Filmed Entertainment', 'Tetragram'],\n",
       " ['Columbia Pictures', 'Mandalay Entertainment'],\n",
       " ['Paramount Pictures', 'MTV Films'],\n",
       " ['New Zealand Film Commission',\n",
       "  'The Australian Film Commission',\n",
       "  'Arenafilm',\n",
       "  'John Maynard Productions'],\n",
       " ['Transatlantic Pictures', 'Warner Bros.', 'Metro-Goldwyn-Mayer (MGM)'],\n",
       " ['Universal Pictures'],\n",
       " ['Universal Pictures'],\n",
       " ['Universal Pictures'],\n",
       " ['Paramount Pictures', 'Alfred J. Hitchcock Productions'],\n",
       " ['Rhino Films', 'Warner Bros.'],\n",
       " ['Lucasfilm', 'Metro-Goldwyn-Mayer (MGM)', 'Imagine Films Entertainment'],\n",
       " ['Paramount Pictures'],\n",
       " ['Robert Simonds Productions', 'Metro-Goldwyn-Mayer (MGM)'],\n",
       " ['TriStar Pictures',\n",
       "  'Film Workshop',\n",
       "  'MDP Worldwide',\n",
       "  'Knock Films A.V.V.',\n",
       "  'Val D Oro Entertainment'],\n",
       " ['The Selznik Studio', 'Vanguard Films'],\n",
       " ['Universal Pictures', 'Skirball Productions'],\n",
       " ['Universal Pictures'],\n",
       " ['RKO Radio Pictures'],\n",
       " ['Mayflower Pictures Corporation'],\n",
       " ['Gaumont British Picture Corporation'],\n",
       " ['British International Pictures (BIP)'],\n",
       " ['British International Pictures (BIP)'],\n",
       " ['Gainsborough Pictures'],\n",
       " ['Carlyle Blackwell Productions'],\n",
       " ['Caravan Pictures', 'Hollywood Pictures'],\n",
       " ['Medusa Produzione'],\n",
       " ['Twentieth Century Fox Film Corporation',\n",
       "  'Melvin Simon Productions',\n",
       "  'Market Street Productions'],\n",
       " ['Orion Pictures'],\n",
       " ['Gracie Films',\n",
       "  'Twentieth Century Fox Film Corporation',\n",
       "  'Amercent Films',\n",
       "  'American Entertainment Partners L.P.'],\n",
       " ['Gracie Films', 'Twentieth Century Fox Film Corporation'],\n",
       " ['Warner Bros.'],\n",
       " ['Geffen Company, The', 'Warner Bros.'],\n",
       " ['Twentieth Century Fox Film Corporation', 'ABC Motion Pictures'],\n",
       " ['Delphi II Productions'],\n",
       " ['TriStar Pictures', 'Delphi V Productions'],\n",
       " ['TriStar Pictures',\n",
       "  'Interscope Communications',\n",
       "  'ML Delphi Premier Productions'],\n",
       " ['Paramount Pictures'],\n",
       " ['Warner Bros.', 'Applied Action'],\n",
       " ['Columbia Pictures'],\n",
       " ['Paramount Pictures'],\n",
       " ['JD Productions', 'Artisan Entertainment'],\n",
       " ['New Line Cinema'],\n",
       " ['Original Film',\n",
       "  'TriStar Pictures',\n",
       "  'Phoenix Pictures',\n",
       "  'Canal+ Droits Audiovisuels'],\n",
       " ['Intermedia Films',\n",
       "  'IMF Internationale Medien und Film GmbH & Co. 2. Produktions KG',\n",
       "  'Fade In Films'],\n",
       " ['Playboy Enterprises'],\n",
       " ['Warner Bros.'],\n",
       " ['Universal Pictures', 'Turman-Foster Company'],\n",
       " ['Fine Line Features',\n",
       "  'Avenue Pictures Productions',\n",
       "  'Spelling Entertainment',\n",
       "  'Addis Wechsler Pictures'],\n",
       " ['Twentieth Century Fox Film Corporation'],\n",
       " ['New Line Cinema', 'Motion Picture Corporation of America (MPCA)'],\n",
       " ['Paramount Pictures', 'SNL Studios'],\n",
       " ['PolyGram Filmed Entertainment'],\n",
       " ['Shooting Gallery', 'Snider Than Thou Productions Inc.'],\n",
       " ['Twentieth Century Fox Film Corporation',\n",
       "  'Palo Vista Productions',\n",
       "  'Peter V. Miller Investment Corp.'],\n",
       " ['Paramount Pictures',\n",
       "  'American Broadcasting Company (ABC)',\n",
       "  'ABC Entertainment'],\n",
       " ['Caravan Pictures', 'Touchstone Pictures'],\n",
       " ['Miramax Films'],\n",
       " ['Harpo Films', 'Touchstone Pictures'],\n",
       " ['Universal Pictures', 'Midwinter Productions Inc.'],\n",
       " ['TriStar Pictures', 'Bad Hat Harry Productions', 'Phoenix Pictures'],\n",
       " ['New Line Cinema', 'Larger Than Life Productions'],\n",
       " ['Impact Pictures',\n",
       "  'Jerry Weintraub Productions',\n",
       "  'Warner Bros.',\n",
       "  'Morgan Creek Productions'],\n",
       " ['Columbia Pictures',\n",
       "  'Largo Entertainment',\n",
       "  'JVC Entertainment Networks',\n",
       "  'Film Office',\n",
       "  'Spooky Tooth Productions',\n",
       "  'Storm King Productions'],\n",
       " ['New Line Cinema', 'The Turman-Morrissey Company', 'Savoy Pictures'],\n",
       " ['Touchstone Pictures'],\n",
       " ['Walt Disney Pictures'],\n",
       " ['Universal Pictures', 'City Light Films'],\n",
       " ['Cannon Group', 'Golan-Globus Productions', 'Northbrook Films'],\n",
       " ['Palomar Pictures', 'Fadsin Cinema Associates'],\n",
       " ['Zenith Entertainment', 'Initial Pictures', 'U.K. Productions Entity'],\n",
       " ['New Line Cinema'],\n",
       " ['Dino de Laurentiis Cinematografica', 'Les Films Marceau'],\n",
       " ['Columbia Pictures'],\n",
       " ['Paramount Pictures', 'Nickelodeon Movies', 'Klasky-Csupo'],\n",
       " ['Walt Disney Pictures', 'Pixar Animation Studios'],\n",
       " ['Sweetland Films', 'Magnolia Productions'],\n",
       " ['Fox Searchlight Pictures', 'Canal+', 'Tomboy Films'],\n",
       " ['Nordic Film', 'Sveriges Television (SVT)', 'Nimbus Film Productions'],\n",
       " ['Paramount Pictures', 'Dino De Laurentiis Company'],\n",
       " ['Orion Pictures'],\n",
       " ['Universal Pictures', 'Vincent Pictures'],\n",
       " ['Famous Films (II)',\n",
       "  'Metro-Goldwyn-Mayer (MGM)',\n",
       "  'Dino De Laurentiis Company'],\n",
       " ['Paramount Pictures'],\n",
       " ['Eon Productions'],\n",
       " ['Warner Bros.', 'The Ladd Company'],\n",
       " ['Warner Bros.'],\n",
       " ['Warner Bros.'],\n",
       " ['Imagine Entertainment', 'Universal Pictures'],\n",
       " ['Miramax Films'],\n",
       " ['Warner Bros.', 'Azoff Entertainment', 'The Canton Company'],\n",
       " ['Paramount Pictures'],\n",
       " ['Miramax Films', 'Universal Pictures', 'Bedford Falls Productions'],\n",
       " ['Warner Bros.', 'Malpaso Company'],\n",
       " ['Orion Pictures'],\n",
       " ['Twentieth Century Fox Film Corporation',\n",
       "  'SLM Production Group',\n",
       "  'Zanuck/Brown Productions'],\n",
       " ['Twentieth Century Fox Film Corporation', 'Zanuck/Brown Productions'],\n",
       " ['United Artists'],\n",
       " ['United Artists'],\n",
       " ['Paramount Pictures', 'Amblin Entertainment'],\n",
       " ['Paramount Pictures'],\n",
       " ['TriStar Pictures'],\n",
       " ['Columbia Pictures Corporation',\n",
       "  'Jerry Weintraub Productions',\n",
       "  'Delphi Films'],\n",
       " ['Columbia Pictures Corporation', 'Delphi V Productions'],\n",
       " ['Columbia Pictures Corporation', 'Weintraub International Group'],\n",
       " ['Hughes Entertainment', 'Warner Bros.'],\n",
       " ['RKO Radio Pictures', 'Argosy Pictures'],\n",
       " ['Universal Pictures',\n",
       "  'Bungalow 78 Productions',\n",
       "  'Blue Wolf',\n",
       "  'Farrell/Minoff'],\n",
       " ['British Broadcasting Corporation (BBC)',\n",
       "  'capitol international',\n",
       "  'Dove International'],\n",
       " ['Lions Gate Films'],\n",
       " ['Chinese Bookie Pictures'],\n",
       " ['Metro-Goldwyn-Mayer (MGM)'],\n",
       " ['DreamWorks SKG', 'Amblin Entertainment'],\n",
       " ['Paramount Pictures', 'MTV Films'],\n",
       " ['Vista Organization',\n",
       "  'New Century Entertainment Corporation',\n",
       "  'Alliance Entertainment'],\n",
       " ['Lorimar Motion Pictures'],\n",
       " ['SLM Production Group', 'Brooksfilms'],\n",
       " ['David Foster Productions',\n",
       "  'Turman-Foster Company',\n",
       "  'Metro-Goldwyn-Mayer (MGM)'],\n",
       " ['Columbia Pictures', 'Delphi V Productions', 'Frostbacks'],\n",
       " ['New Line Cinema', 'Vortex'],\n",
       " ['Nicolas Entertainment'],\n",
       " ['Ultra Muchos Productions'],\n",
       " ['Touchstone Pictures'],\n",
       " ['Warner Bros.', 'Pan Arts', 'Layton'],\n",
       " ['Twentieth Century Fox Film Corporation',\n",
       "  'Lawrence Gordon Productions',\n",
       "  'Silver Pictures'],\n",
       " ['American Zoetrope', 'TriStar Pictures'],\n",
       " ['Paramount Pictures'],\n",
       " ['Touchstone Pictures'],\n",
       " ['Cannon Group', 'Golan-Globus Productions'],\n",
       " ['Columbia Pictures Corporation',\n",
       "  'The Greenlight Fund',\n",
       "  'Marmot Tandy Productions'],\n",
       " ['Miramax Films', 'Tapestry Films', 'FilmColony'],\n",
       " ['National Film Finance Corporation (NFFC)', 'Anglo-Amalgamated Productions'],\n",
       " ['Paramount Pictures', 'Icon Entertainment International'],\n",
       " ['Beta Film'],\n",
       " ['Bel Air Entertainment', 'DiNovi Pictures', 'Tiger Productions'],\n",
       " ['Walt Disney Pictures'],\n",
       " ['TriStar Pictures', 'Crossroads Films', 'Kramer-Tornell Productions'],\n",
       " ['Universal Pictures'],\n",
       " ['Twentieth Century Fox Film Corporation', 'Cubicle Inc.'],\n",
       " ['Paramount Pictures'],\n",
       " ['Underdog Productions'],\n",
       " ['Lions Gate Films', 'E-K-Corporation'],\n",
       " ['Paramount Pictures', 'Columbus Circle Films'],\n",
       " ['William Castle Productions'],\n",
       " ['Universal Pictures', 'Ross Hunter Productions Inc.'],\n",
       " ['Universal Pictures'],\n",
       " ['Universal Pictures'],\n",
       " ['Universal Pictures'],\n",
       " ['Twentieth Century Fox Film Corporation',\n",
       "  'Warner Bros.',\n",
       "  'Irwin Allen Productions',\n",
       "  'United Films'],\n",
       " ['Alligator Inc'],\n",
       " ['Metro-Goldwyn-Mayer (MGM)'],\n",
       " ['Twentieth Century Fox Film Corporation', 'APJAC Productions'],\n",
       " ['Twentieth Century Fox Film Corporation', 'APJAC Productions'],\n",
       " ['Twentieth Century Fox Film Corporation', 'APJAC Productions'],\n",
       " ['Warner Bros.'],\n",
       " ['Spring Creek Productions',\n",
       "  'Warner Bros.',\n",
       "  'Tribeca Productions',\n",
       "  'Baltimore Pictures'],\n",
       " ['Handmade Films Ltd.',\n",
       "  'Summit Entertainment',\n",
       "  'PolyGram Filmed Entertainment',\n",
       "  'SKA Films',\n",
       "  'The Steve Tisch Company'],\n",
       " ['Touchstone Pictures'],\n",
       " ['DreamWorks SKG', 'Roth-Arnold Productions'],\n",
       " ['Rankin/Bass Productions',\n",
       "  'NEST Family Entertainment',\n",
       "  'Rich Animation Studios',\n",
       "  'Warner Bros.',\n",
       "  'Morgan Creek Productions'],\n",
       " ['Bedford Falls Productions',\n",
       "  'Regency Enterprises',\n",
       "  'Warner Bros.',\n",
       "  'Arnon Milchan Productions'],\n",
       " ['Walt Disney Pictures'],\n",
       " ['Imagine Entertainment', 'Universal Pictures'],\n",
       " ['Metro-Goldwyn-Mayer (MGM)'],\n",
       " ['Miramax Films',\n",
       "  'Village Roadshow Pictures',\n",
       "  'Groucho II Film Partnership',\n",
       "  'Punch 21 Productions'],\n",
       " ['Village Roadshow Pictures',\n",
       "  'Groucho II Film Partnership',\n",
       "  'Silver Pictures',\n",
       "  'Warner Bros.'],\n",
       " ['Paramount Pictures', 'Cherry Alley Productions'],\n",
       " ['Syncopy', 'Next Wave Films'],\n",
       " ['Columbia Pictures'],\n",
       " ['Fox 2000 Pictures',\n",
       "  'Flower Films (II)',\n",
       "  'Bushwood Pictures',\n",
       "  'Never Been Kissed Productions'],\n",
       " ['October Films', 'Moonstone Entertainment', 'Elysian Dreams', 'Kudzu'],\n",
       " ['Regency Enterprises',\n",
       "  'Warner Bros.',\n",
       "  'Lightmotive',\n",
       "  'Gotham Entertainment Group'],\n",
       " ['Imagine Entertainment', 'Universal Pictures'],\n",
       " ['Beyond Films'],\n",
       " ['Alcon Entertainment', 'Dinamo Entertainment'],\n",
       " ['Paramount Pictures', 'MTV Films', 'Bona Fide Productions'],\n",
       " ['Winslow Partners Ltd.'],\n",
       " ['Concorde Pictures', 'Trinity Pictures'],\n",
       " ['Touchstone Pictures', 'Silver Screen Partners II'],\n",
       " ['Touchstone Pictures'],\n",
       " ['Working Dog', 'Village Roadshow Entertainment'],\n",
       " ['TLA Releasing'],\n",
       " ['Lucasfilm'],\n",
       " ['DreamWorks SKG', 'Sanford/Pillsbury Productions'],\n",
       " ['Mediaset', 'Fiction Films', 'Navert Film'],\n",
       " ['Kamera Film Unit'],\n",
       " ['Universal Pictures'],\n",
       " ['Paramount Pictures'],\n",
       " ['Universal Pictures'],\n",
       " ['Universal Pictures'],\n",
       " ['Universal Pictures'],\n",
       " ['Universal Pictures'],\n",
       " ['Universal Pictures'],\n",
       " ['Universal Pictures'],\n",
       " ['Hemdale', 'Cinema  84/Greenberg Brothers Partnership'],\n",
       " ['Universal International Pictures (UI)'],\n",
       " ['RKO Radio Pictures', 'Winchester Pictures Corporation'],\n",
       " ['Universal International Pictures (UI)'],\n",
       " ['Columbia Pictures Corporation', 'Clover Productions'],\n",
       " ['United Artists', 'Melville Productions'],\n",
       " ['Spyglass Entertainment', 'Touchstone Pictures'],\n",
       " ...]"
      ]
     },
     "execution_count": 296,
     "metadata": {},
     "output_type": "execute_result"
    }
   ],
   "source": [
    "movie_companies"
   ]
  },
  {
   "cell_type": "code",
   "execution_count": 297,
   "metadata": {},
   "outputs": [
    {
     "data": {
      "text/plain": [
       "501"
      ]
     },
     "execution_count": 297,
     "metadata": {},
     "output_type": "execute_result"
    }
   ],
   "source": [
    "len(u_movie_companies)"
   ]
  },
  {
   "cell_type": "code",
   "execution_count": 201,
   "metadata": {
    "scrolled": true
   },
   "outputs": [
    {
     "name": "stdout",
     "output_type": "stream",
     "text": [
      "{'Pixar Animation Studios': 0, 'Twentieth Century Fox Film Corporation': 1, 'Touchstone Pictures': 2, 'Walt Disney Pictures': 3, 'Universal Pictures': 4, 'Columbia Pictures': 5, 'Castle Rock Entertainment': 6, 'Amblin Entertainment': 7, 'Hollywood Pictures': 8, 'Cinergi Pictures Entertainment': 9, 'Metro-Goldwyn-Mayer (MGM)': 10, 'Carolco Pictures': 11, 'Columbia Pictures Corporation': 12, 'Mirage Enterprises': 13, 'Miramax Films': 14, 'Warner Bros.': 15, 'Morgan Creek Productions': 16, 'Jersey Films': 17, 'Caravan Pictures': 18, 'New Line Cinema': 19, 'BBC Films': 20, 'PolyGram Filmed Entertainment': 21, 'Working Title Films': 22, 'Rysher Entertainment': 23, 'Miramax': 24, 'The Rank Organisation': 25, 'Walt Disney Feature Animation': 26, 'Magnolia Pictures': 27, 'Paramount Pictures': 28, 'The Kennedy/Marshall Company': 29, 'Interscope Communications': 30, 'Channel Four Films': 31, 'Dino De Laurentiis Company': 32, 'Robert Simonds Productions': 33, 'Jim Henson Company, The': 34, 'TriStar Pictures': 35, 'Motion Picture Corporation of America (MPCA)': 36, 'Studio Babelsberg': 37, 'Fine Line Features': 38, 'BBC': 39, 'British Screen Productions': 40, 'Imagine Entertainment': 41, 'United Artists': 42, 'Polygram Filmed Entertainment': 43, '40 Acres & A Mule Filmworks': 44, 'Why Not Productions': 45, 'Regency Enterprises': 46, 'Canal+': 47, 'Gramercy Pictures': 48, 'Alphaville Films': 49, 'View Askew Productions': 50, 'Killer Films': 51, 'Spring Creek Productions': 52, 'Full Moon Entertainment': 53, 'Baltimore Pictures': 54, 'Capitol Films': 55, 'Savoy Pictures': 56, 'WingNut Films': 57, 'New Zealand Film Commission': 58, 'Trimark Pictures': 59, 'Lucasfilm': 60, 'Bedford Falls Productions': 61, 'American Zoetrope': 62, 'Jerry Weintraub Productions': 63, 'Sony Pictures Classics': 64, 'Beacon Pictures': 65, 'Hanna-Barbera Productions': 66, 'Dark Horse Entertainment': 67, 'Icon Entertainment International': 68, 'Renaissance Pictures': 69, 'Largo Entertainment': 70, 'Signature Pictures': 71, 'JVC Entertainment Networks': 72, 'Tig Productions': 73, 'Propaganda Films': 74, 'Orion Pictures': 75, 'Scott Rudin Productions': 76, 'Trilogy Entertainment Group': 77, 'HBO Films': 78, 'The Criterion Collection': 79, 'Silver Pictures': 80, 'Universal Studios': 81, 'Davis Entertainment': 82, 'Malpaso Productions': 83, 'The Australian Film Commission': 84, 'Gaumont': 85, 'Brooksfilms': 86, 'Allied Filmmakers': 87, 'Walt Disney': 88, 'Tim Burton Productions': 89, 'Davis-Films': 90, 'Walt Disney Productions': 91, 'Fox 2000 Pictures': 92, 'Canadian Film Development Corporation (CFDC)': 93, 'Dimension Films': 94, 'Dino de Laurentiis Cinematografica': 95, 'Live Entertainment': 96, 'Silver Screen Partners III': 97, 'The Bubble Factory': 98, 'Aardman Animations': 99, 'Village Roadshow Pictures': 100, 'The Ladd Company': 101, 'Samuel Goldwyn Company, The': 102, 'Film4': 103, 'Centropolis Entertainment': 104, 'Mandalay Entertainment': 105, 'Rastar Pictures': 106, 'Nickelodeon Movies': 107, 'British Broadcasting Corporation (BBC)': 108, 'Universal Cartoon Studios': 109, 'The Mirisch Corporation': 110, 'Loew s': 111, 'RKO Radio Pictures': 112, 'Touchwood Pacific Partners 1': 113, 'Warner Brothers/Seven Arts': 114, 'Lionsgate': 115, 'Sony Pictures': 116, 'Pacific Western': 117, 'AVCO Embassy Pictures': 118, 'SLM Production Group': 119, 'Svensk Filmindustri (SF)': 120, 'Hemdale Film': 121, 'Silver Screen Partners IV': 122, 'A&M Films': 123, 'Stanley Kramer Productions': 124, 'Lorimar Film Entertainment': 125, 'Nelson Entertainment': 126, 'De Laurentiis Entertainment Group (DEG)': 127, 'American International Pictures (AIP)': 128, 'Australian Film Finance Corporation (AFFC)': 129, 'Steamroller Productions': 130, 'Silver Screen Partners II': 131, 'Fox Searchlight Pictures': 132, 'Warner Bros. Pictures': 133, 'Jerry Bruckheimer Films': 134, 'Permut Presentations': 135, 'Impact Pictures': 136, 'DC Entertainment': 137, 'United Artists Pictures': 138, 'Phoenix Pictures': 139, 'Good Machine': 140, 'Tiger Aspect Productions': 141, 'Ghoulardi Film Company': 142, 'Lawrence Bender Productions': 143, 'Hughes Entertainment': 144, 'Wildwood Enterprises': 145, 'Tribeca Productions': 146, 'Atlas Entertainment': 147, 'Medusa Film': 148, 'Constantin Film Produktion': 149, 'Film Afrika Worldwide': 150, 'DreamWorks SKG': 151, 'Summit Entertainment': 152, 'DiNovi Pictures': 153, 'Protozoa Pictures': 154, 'The Zanuck Company': 155, 'Palomar Pictures': 156, 'American Broadcasting Company (ABC)': 157, 'Sean S. Cunningham Films': 158, 'Lakeshore Entertainment': 159, 'Universum Film (UFA)': 160, 'Beacon Communications': 161, 'Tapestry Films': 162, 'Incorporated Television Company (ITC)': 163, 'The Guber-Peters Company': 164, 'New World Pictures': 165, 'MTV Films': 166, 'Gracie Films': 167, 'Delphi II Productions': 168, 'Artisan Entertainment': 169, 'Original Film': 170, 'Intermedia Films': 171, 'Bad Hat Harry Productions': 172, 'Cannon Group': 173, 'Golan-Globus Productions': 174, 'Nimbus Film Productions': 175, 'Lions Gate Films': 176, 'FilmColony': 177, 'Rankin/Bass Productions': 178, 'Syncopy': 179, 'Alcon Entertainment': 180, 'Bona Fide Productions': 181, 'TLA Releasing': 182, 'Universal International Pictures (UI)': 183, 'Spyglass Entertainment': 184, 'Comedy Central': 185, 'Screen Gems': 186, 'Seven Arts Productions': 187, 'Golan-Globus': 188, 'Warner Bros. Animation': 189, 'StudioCanal': 190, 'Seven Arts Pictures': 191, 'Mad Chance': 192, 'Newmarket Capital Group': 193, 'IFC Films': 194, 'Destination Films': 195, 'Dark Castle Entertainment': 196, 'Filmways Pictures': 197, 'Mandalay Pictures': 198, 'Bing Crosby Productions': 199, '1492 Pictures': 200, 'Donners  Company': 201, 'Overseas FilmGroup': 202, 'Kennedy Miller Productions': 203, 'British Film Institute (BFI)': 204, 'Charles Chaplin Productions': 205, 'First National Pictures': 206, 'Code Entertainment': 207, 'Cannon Films': 208, 'Golden Harvest Company': 209, 'New Regency Pictures': 210, 'DreamWorks Animation': 211, 'NPV Entertainment': 212, 'Edward R. Pressman Film': 213, 'Franchise Pictures': 214, 'Scott Free Productions': 215, 'Red Wagon Entertainment': 216, 'The Montecito Picture Company': 217, 'Cruise/Wagner Productions': 218, 'Republic Pictures': 219, 'Hammer Film Productions': 220, 'Empire Pictures': 221, 'Troma Entertainment': 222, 'Icon Productions': 223, 'Conundrum Entertainment': 224, 'Amicus Productions': 225, 'Marvel Enterprises': 226, 'ImageMovers': 227, 'DreamWorks Pictures': 228, '20th Century Fox Home Entertainment': 229, 'Epsilon Motion Pictures': 230, 'Studio Canal': 231, 'Neo Art & Logic': 232, 'Home Box Office (HBO)': 233, 'Kintop Pictures': 234, 'Walt Disney Television Animation': 235, 'Planet Productions': 236, 'Revolution Studios': 237, 'Happy Madison Productions': 238, 'Sony Pictures Entertainment': 239, 'Recorded Picture Company (RPC)': 240, 'Marc Platt Productions': 241, 'Vestron Pictures': 242, 'Kings Road Entertainment': 243, 'LionsGate': 244, 'Pandora Cinema': 245, 'Warner Home Video': 246, 'Disney Channel': 247, 'Red Hour Films': 248, 'Bad Robot': 249, 'Karz Entertainment': 250, 'Cheyenne Enterprises': 251, 'Hyde Park Entertainment': 252, 'Fragile Films': 253, 'Heyday Films': 254, 'Paramount Animation': 255, 'Senator Film Produktion': 256, 'Ecosse Films': 257, 'Gaylord Films': 258, 'DisneyToon Studios': 259, 'Glass Eye Pix': 260, 'Cecchi Gori Group Tiger Cinematografica': 261, 'Overbrook Entertainment': 262, 'Jadran Film': 263, 'Mosaic Media Group': 264, 'Josephson Entertainment': 265, 'Mel s Cite du Cinema': 266, 'Focus Features': 267, 'Cinetel Films': 268, 'Greenestreet Films': 269, 'Ealing Studios': 270, 'BenderSpink': 271, 'Parkes+MacDonald Image Nation': 272, 'Chartoff-Winkler Productions': 273, 'First Artists': 274, 'Rat Entertainment': 275, 'London Film Productions': 276, 'Gold Circle Films': 277, '3 Arts Entertainment': 278, 'Gerber Pictures': 279, 'Walden Media': 280, 'Radar Pictures': 281, 'Fandango': 282, 'Gotham Group': 283, 'Myriad Pictures': 284, 'EM Media': 285, 'Copperheart Entertainment': 286, 'Castel Film Romania': 287, 'UK Film Council': 288, 'Shangri-La Entertainment': 289, 'Cruel and Unusual Films': 290, 'Anonymous Content': 291, 'This Is That Productions': 292, 'Atmosphere Entertainment MM': 293, 'Irish Film Board': 294, 'Sobini Films': 295, 'Mandeville Films': 296, 'WWE Studios': 297, '2929 Productions': 298, 'Plan B Entertainment': 299, 'De Line Pictures': 300, 'Nordisk Film': 301, 'Apatow Productions': 302, 'Double Feature Films': 303, 'Revolution Sun Studios': 304, 'Millennium Films': 305, 'John Wells Productions': 306, 'Twisted Pictures': 307, 'Playtone': 308, 'Contrafilm': 309, 'Firm Films': 310, 'HBO': 311, 'Anchor Bay Films': 312, 'Hallmark Entertainment': 313, 'DC Comics': 314, 'Warner Bros. Television': 315, 'Rogue Pictures': 316, 'Isle of Man Film': 317, 'Canadian Film or Video Production Tax Credit (CPTC)': 318, 'Wild Bunch': 319, 'Province of British Columbia Production Services Tax Credit': 320, 'Vertigo Films': 321, 'Appian Way': 322, 'Brightlight Pictures': 323, 'Endgame Entertainment': 324, 'Cube Vision': 325, 'Emmett/Furla Films': 326, 'Platinum Dunes': 327, 'Showtime Networks': 328, 'Scion Films': 329, '20th Century Fox Television': 330, 'Participant Media': 331, 'EuropaCorp': 332, 'Michael De Luca Productions': 333, 'Sony Pictures Entertainment (SPE)': 334, '21 Laps Entertainment': 335, 'The Mark Gordon Company': 336, 'The Weinstein Company': 337, 'Thunder Road Pictures': 338, 'Yari Film Group': 339, 'Vertigo Entertainment': 340, 'Blue Sky Studios': 341, 'Twentieth Century Fox Animation': 342, 'Capital Arts Entertainment': 343, 'Dune Entertainment': 344, 'Wonderland Sound and Vision': 345, 'NetFlix': 346, 'River Road Entertainment': 347, 'After Dark Films': 348, 'Ingenious Film Partners': 349, 'Legendary Pictures': 350, 'Number 9 Films': 351, 'Big Beach Films': 352, 'Nu Image Films': 353, 'North by Northwest Entertainment': 354, 'Sony Pictures Animation': 355, 'Ingenious Media': 356, 'Mandate Pictures': 357, 'Muse Entertainment Enterprises': 358, 'Samuel Goldwyn Films': 359, 'Intrepid Pictures': 360, 'Relativity Media': 361, 'Ghost House Pictures': 362, 'Big Talk Productions': 363, 'Di Bonaventura Pictures': 364, 'Walt Disney Animation Studios': 365, 'Sidney Kimmel Entertainment': 366, 'Blumhouse Productions': 367, 'Screen Yorkshire': 368, 'Foresight Unlimited': 369, 'Bold Films': 370, 'Paramount Vantage': 371, 'Mockingbird Pictures': 372, 'Dune Entertainment III': 373, 'Zero Gravity Management': 374, 'Future Films': 375, 'ArieScope Pictures': 376, 'Ruby Films': 377, 'Moonlighting Films': 378, 'Goldcrest Pictures': 379, 'Groundswell Productions': 380, 'QED International': 381, 'Smokehouse Pictures': 382, 'Alliance Films': 383, 'Whitewater Films': 384, 'Upload Films': 385, 'Stage 6 Films': 386, 'Warner Premiere': 387, 'Gary Sanchez Productions': 388, 'Rai Cinema': 389, 'Aramid Entertainment Fund': 390, 'Lipsync Productions': 391, 'Likely Story': 392, 'Hollywood Media Bridge': 393, 'Walt Disney Television': 394, 'Affirm Films': 395, 'Sony Pictures Home Entertainment': 396, 'Sunswept Entertainment': 397, 'Sony Pictures Television': 398, 'Film Science': 399, 'Oscilloscope Laboratories': 400, 'Reel FX Creative Studios': 401, 'Insight Film Studios': 402, 'Escape Artists': 403, 'Big Screen Productions': 404, 'Moving Picture Company (MPC)': 405, 'Prescience': 406, 'Dentsu': 407, '120dB Films': 408, 'LD Entertainment': 409, 'Olympus Pictures': 410, 'Peter Rogers Productions': 411, 'Stuber Productions': 412, 'Revolution Films': 413, 'Quickfire Films': 414, 'Indian Paintbrush': 415, 'HanWay Films': 416, 'Media Rights Capital': 417, 'PalmStar Media': 418, 'Asylum, The': 419, 'CBS Films': 420, 'GK Films': 421, 'IM Global': 422, 'Imagenation Abu Dhabi FZ': 423, 'New Artists Alliance': 424, 'Tax Credit Finance': 425, 'The Safran Company': 426, 'Sony Pictures Releasing': 427, 'Boll Kino Beteiligungs GmbH & Co. KG': 428, 'Temple Hill Entertainment': 429, 'Illumination Entertainment': 430, 'Syfy': 431, 'Mandalay Vision': 432, 'Gilbert Films': 433, 'RabbitBandini Productions': 434, 'Aegis Film Fund': 435, 'FilmNation Entertainment': 436, 'Screen Australia': 437, 'Skydance Productions': 438, 'Reliance Entertainment': 439, 'Element Pictures': 440, 'Voltage Pictures': 441, 'Circle of Confusion': 442, 'Unison Films': 443, 'Marvel Studios': 444, 'Exclusive Media Group': 445, 'Brookwell-McNamara Entertainment': 446, 'FilmDistrict': 447, 'Snoot Entertainment': 448, 'Minds Eye Entertainment': 449, 'Silver Reel': 450, 'Cross Creek Pictures': 451, 'Head Gear Films': 452, 'Metrol Technology': 453, 'Benaroya Pictures': 454, 'Room 101': 455, 'Grindstone Entertainment Group': 456, 'Automatik Entertainment': 457, 'Voltage pictures': 458, 'Open Road Films': 459, 'Rainmaker Entertainment': 460, 'The Asylum': 461, 'The Global Asylum': 462, 'XYZ Films': 463, 'Duplass Brothers Productions': 464, 'Constantin Film': 465, 'Worldview Entertainment': 466, 'Entertainment One': 467, 'Edison Manufacturing Company': 468, 'Annapurna Pictures': 469, 'Treehouse Pictures': 470, 'Epic Pictures Group': 471, 'Universal 1440 Entertainment': 472, 'Demarest Films': 473, 'Chernin Entertainment': 474, 'Black Bear Pictures': 475, 'A24': 476, 'TSG Entertainment': 477, 'Venture Forth': 478, 'Animal Kingdom': 479, 'Altitude Film Entertainment': 480, 'Good Universe': 481, 'Unified Pictures': 482, 'Bron Studios': 483, 'RatPac-Dune Entertainment': 484, 'Bluegrass Films': 485, 'Snowfort Pictures': 486, 'Prana Animation Studios': 487, 'LStar Capital': 488, 'Jeff Rice Films': 489, 'Fuji Television Network': 490, 'Zed Filmworks': 491, 'Reel One Entertainment': 492, 'Mattel': 493, 'Broad Green Pictures': 494, 'Netflix': 495, 'The Hallmark Channel': 496, 'Arrowstorm Entertainment': 497, 'Mattel Playground Productions': 498, 'Marvista Entertainment': 499, 'Status Media & Entertainment': 500}\n"
     ]
    }
   ],
   "source": [
    "'''\n",
    "movie_company_dict = {}\n",
    "num = 0\n",
    "for company in u_movie_companies :\n",
    "    movie_company_dict[company] = num\n",
    "    num += 1\n",
    "\n",
    "print(movie_company_dict)\n",
    "'''"
   ]
  },
  {
   "cell_type": "code",
   "execution_count": 202,
   "metadata": {},
   "outputs": [],
   "source": [
    "'''\n",
    "for i in range(0, len(movie_companies)) :\n",
    "    for j in range(0, len(movie_companies[i])) :\n",
    "        if movie_companies[i][j] in movie_company_dict :\n",
    "            movie_companies[i][j] = movie_company_dict[movie_companies[i][j]]\n",
    "        else :\n",
    "            movie_companies[i][j] = -1\n",
    "'''"
   ]
  },
  {
   "cell_type": "code",
   "execution_count": 298,
   "metadata": {},
   "outputs": [],
   "source": [
    "movie_companies, company_one_hot = convertOnehot(movie_companies, u_movie_companies)"
   ]
  },
  {
   "cell_type": "code",
   "execution_count": 299,
   "metadata": {
    "scrolled": true
   },
   "outputs": [
    {
     "data": {
      "text/plain": [
       "[[0],\n",
       " [1],\n",
       " [-1, 2],\n",
       " [3],\n",
       " [4, -1, -1],\n",
       " [5, 6],\n",
       " [5, 6, -1],\n",
       " [4, 7, -1],\n",
       " [8, 9],\n",
       " [-1, -1, 10, 11],\n",
       " [12, 13],\n",
       " [14, -1],\n",
       " [-1, 15, 16],\n",
       " [5],\n",
       " [17, 10],\n",
       " [18, 8],\n",
       " [5, 6],\n",
       " [19],\n",
       " [20],\n",
       " [-1, 21, 22],\n",
       " [-1, 15, 23, -1],\n",
       " [24, -1, -1],\n",
       " [-1, -1],\n",
       " [25, 12],\n",
       " [3, 26],\n",
       " [14, 27],\n",
       " [28, 12, 29],\n",
       " [8, -1, 21, 30],\n",
       " [15, 16],\n",
       " [19],\n",
       " [19, -1],\n",
       " [15, 16],\n",
       " [-1, -1, -1, -1, -1, -1],\n",
       " [14],\n",
       " [12],\n",
       " [-1, -1],\n",
       " [28],\n",
       " [28],\n",
       " [28],\n",
       " [1, -1, -1],\n",
       " [31],\n",
       " [5, 6],\n",
       " [10, 32, -1],\n",
       " [4, -1, 33],\n",
       " [3, -1, 34],\n",
       " [35, 36],\n",
       " [35],\n",
       " [14],\n",
       " [37, -1, -1, 15, 24],\n",
       " [28],\n",
       " [5, -1],\n",
       " [38, 39, 40, -1],\n",
       " [41, 4],\n",
       " [42, -1],\n",
       " [-1, -1, -1],\n",
       " [15, 43],\n",
       " [14, -1],\n",
       " [4, 7, -1],\n",
       " [4, 44],\n",
       " [8, -1],\n",
       " [-1],\n",
       " [5, -1],\n",
       " [35, -1],\n",
       " [45, -1, -1, -1],\n",
       " [46, -1, 47, -1, 15],\n",
       " [8, 9],\n",
       " [35],\n",
       " [14],\n",
       " [-1, -1],\n",
       " [2],\n",
       " [4, 48, 49, 50],\n",
       " [1, -1, -1],\n",
       " [-1],\n",
       " [51, -1, -1, -1],\n",
       " [8, 9],\n",
       " [42, -1, 11],\n",
       " [14],\n",
       " [52, 15, -1],\n",
       " [-1],\n",
       " [1, -1],\n",
       " [1],\n",
       " [-1, 40],\n",
       " [-1],\n",
       " [4, -1],\n",
       " [53],\n",
       " [14, 50],\n",
       " [15, 54],\n",
       " [28],\n",
       " [38, 31, 55, -1, 47, -1, -1],\n",
       " [19, 36],\n",
       " [56],\n",
       " [2],\n",
       " [5, 6],\n",
       " [1],\n",
       " [3],\n",
       " [35],\n",
       " [-1],\n",
       " [57, 14, 58, -1],\n",
       " [3, 18],\n",
       " [28]]"
      ]
     },
     "execution_count": 299,
     "metadata": {},
     "output_type": "execute_result"
    }
   ],
   "source": [
    "movie_companies[:100]"
   ]
  },
  {
   "cell_type": "code",
   "execution_count": 204,
   "metadata": {},
   "outputs": [],
   "source": [
    "'''\n",
    "company_one_hot = np.zeros((len(movie_companies),len(u_movie_companies)),dtype=int)\n",
    "for i in range(0, len(company_one_hot)) :\n",
    "    for j in range(0, len(movie_companies[i])) :\n",
    "        if movie_companies[i][j] != -1 :\n",
    "            company_one_hot[i][movie_companies[i][j]] = 1\n",
    "'''"
   ]
  },
  {
   "cell_type": "code",
   "execution_count": 300,
   "metadata": {},
   "outputs": [
    {
     "data": {
      "text/plain": [
       "(8589, 501)"
      ]
     },
     "execution_count": 300,
     "metadata": {},
     "output_type": "execute_result"
    }
   ],
   "source": [
    "company_one_hot.shape"
   ]
  },
  {
   "cell_type": "code",
   "execution_count": 54,
   "metadata": {},
   "outputs": [],
   "source": [
    "#print(len(df_movie_companies))\n",
    "# 정규화한 budget, 이익율 저장 - 판다스저장용\n",
    "#df_movie_companies.to_csv('E:/STUDY/Source files/python/Inf/data2/movie_companies.csv', header = False, index = False)"
   ]
  },
  {
   "cell_type": "markdown",
   "metadata": {},
   "source": [
    "### 장르 (D) 얻기"
   ]
  },
  {
   "cell_type": "code",
   "execution_count": 284,
   "metadata": {},
   "outputs": [],
   "source": [
    "genres = (movie_train_df[[3]]) # company\n",
    "genres = genres.values.tolist()"
   ]
  },
  {
   "cell_type": "code",
   "execution_count": 303,
   "metadata": {},
   "outputs": [],
   "source": [
    "movie_genres, u_movie_genres = jsonRead(genres, 0, 'name')"
   ]
  },
  {
   "cell_type": "code",
   "execution_count": 305,
   "metadata": {},
   "outputs": [
    {
     "data": {
      "text/plain": [
       "[['Animation', 'Comedy', 'Family'],\n",
       " ['Comedy', 'Drama', 'Romance'],\n",
       " ['Comedy'],\n",
       " ['Action', 'Adventure', 'Drama', 'Family'],\n",
       " ['Action', 'Adventure', 'Thriller']]"
      ]
     },
     "execution_count": 305,
     "metadata": {},
     "output_type": "execute_result"
    }
   ],
   "source": [
    "movie_genres[:5]"
   ]
  },
  {
   "cell_type": "code",
   "execution_count": 306,
   "metadata": {
    "scrolled": true
   },
   "outputs": [
    {
     "name": "stdout",
     "output_type": "stream",
     "text": [
      "8589 20\n"
     ]
    }
   ],
   "source": [
    "print(len(movie_genres), len(u_movie_genres))"
   ]
  },
  {
   "cell_type": "code",
   "execution_count": 307,
   "metadata": {},
   "outputs": [],
   "source": [
    "movie_genres, genre_one_hot = convertOnehot(movie_genres, u_movie_genres)"
   ]
  },
  {
   "cell_type": "code",
   "execution_count": 308,
   "metadata": {
    "scrolled": true
   },
   "outputs": [
    {
     "data": {
      "text/plain": [
       "[[0, 1, 2], [1, 3, 4], [1], [5, 6, 3, 2], [5, 6, 7]]"
      ]
     },
     "execution_count": 308,
     "metadata": {},
     "output_type": "execute_result"
    }
   ],
   "source": [
    "movie_genres[:5]"
   ]
  },
  {
   "cell_type": "code",
   "execution_count": 309,
   "metadata": {},
   "outputs": [
    {
     "data": {
      "text/plain": [
       "(8589, 20)"
      ]
     },
     "execution_count": 309,
     "metadata": {},
     "output_type": "execute_result"
    }
   ],
   "source": [
    "genre_one_hot.shape"
   ]
  },
  {
   "cell_type": "code",
   "execution_count": 310,
   "metadata": {
    "scrolled": true
   },
   "outputs": [
    {
     "name": "stdout",
     "output_type": "stream",
     "text": [
      "[[1 1 1 ... 0 0 0]\n",
      " [0 1 0 ... 0 0 0]\n",
      " [0 1 0 ... 0 0 0]\n",
      " ...\n",
      " [0 0 0 ... 0 0 0]\n",
      " [0 1 1 ... 0 0 0]\n",
      " [0 1 0 ... 0 0 0]]\n"
     ]
    }
   ],
   "source": [
    "print(genre_one_hot[:100])"
   ]
  },
  {
   "cell_type": "markdown",
   "metadata": {},
   "source": [
    "### np 합치는 방법"
   ]
  },
  {
   "cell_type": "code",
   "execution_count": 206,
   "metadata": {},
   "outputs": [
    {
     "name": "stdout",
     "output_type": "stream",
     "text": [
      "(8589, 2) (8589, 1) (8589, 29) (8589, 501)\n"
     ]
    }
   ],
   "source": [
    "print(profit_rate.shape, popularity.shape, one_hot.shape, company_one_hot.shape)"
   ]
  },
  {
   "cell_type": "code",
   "execution_count": 207,
   "metadata": {},
   "outputs": [],
   "source": [
    "c_x = np.concatenate((profit_rate, popularity, one_hot, company_one_hot), axis = 1)"
   ]
  },
  {
   "cell_type": "code",
   "execution_count": 208,
   "metadata": {
    "scrolled": true
   },
   "outputs": [
    {
     "name": "stdout",
     "output_type": "stream",
     "text": [
      "(8589, 533)\n"
     ]
    }
   ],
   "source": [
    "print(c_x.shape)"
   ]
  },
  {
   "cell_type": "code",
   "execution_count": 209,
   "metadata": {},
   "outputs": [
    {
     "data": {
      "text/plain": [
       "8589"
      ]
     },
     "execution_count": 209,
     "metadata": {},
     "output_type": "execute_result"
    }
   ],
   "source": [
    "len(c_x)"
   ]
  },
  {
   "cell_type": "code",
   "execution_count": 210,
   "metadata": {},
   "outputs": [
    {
     "name": "stdout",
     "output_type": "stream",
     "text": [
      "<class 'numpy.int32'>\n"
     ]
    }
   ],
   "source": [
    "print(type(one_hot[0][7]))"
   ]
  },
  {
   "cell_type": "code",
   "execution_count": 211,
   "metadata": {
    "scrolled": false
   },
   "outputs": [
    {
     "name": "stdout",
     "output_type": "stream",
     "text": [
      "<class 'numpy.float64'>\n",
      "[[1.00000000e-01 1.24518000e+03 4.00858108e-02 ... 0.00000000e+00\n",
      "  0.00000000e+00 0.00000000e+00]\n",
      " [5.30000000e-02 5.09076000e+02 7.04898712e-03 ... 0.00000000e+00\n",
      "  0.00000000e+00 0.00000000e+00]\n",
      " [0.00000000e+00 0.00000000e+00 1.53194480e-02 ... 0.00000000e+00\n",
      "  0.00000000e+00 0.00000000e+00]\n",
      " ...\n",
      " [0.00000000e+00 0.00000000e+00 2.21747141e-02 ... 0.00000000e+00\n",
      "  0.00000000e+00 0.00000000e+00]\n",
      " [1.47000000e-01 3.10950000e+01 9.30016431e-03 ... 0.00000000e+00\n",
      "  0.00000000e+00 0.00000000e+00]\n",
      " [3.27000000e-01 1.02220000e+01 1.33047357e-02 ... 0.00000000e+00\n",
      "  0.00000000e+00 0.00000000e+00]]\n"
     ]
    }
   ],
   "source": [
    "print(type(c_x[0][9]))\n",
    "print(c_x[:10])"
   ]
  },
  {
   "cell_type": "markdown",
   "metadata": {},
   "source": [
    "### test data 평점 얻어오기"
   ]
  },
  {
   "cell_type": "code",
   "execution_count": 55,
   "metadata": {},
   "outputs": [],
   "source": [
    "from bs4 import BeautifulSoup\n",
    "import urllib.request as req"
   ]
  },
  {
   "cell_type": "code",
   "execution_count": 56,
   "metadata": {},
   "outputs": [],
   "source": [
    "#movie_test으로부터 데이터 얻어온다\n",
    "movie_test_df = pd.read_csv('E:/STUDY/Source files/python/Inf/data2/movie_test.csv', header=None)"
   ]
  },
  {
   "cell_type": "code",
   "execution_count": 57,
   "metadata": {},
   "outputs": [],
   "source": [
    "test_title = np.array(movie_test_df[[8]]) # budget"
   ]
  },
  {
   "cell_type": "code",
   "execution_count": 58,
   "metadata": {},
   "outputs": [
    {
     "name": "stdout",
     "output_type": "stream",
     "text": [
      "https://movie.naver.com/movie/search/result.nhn?query=Leaving Las Vegas\n"
     ]
    }
   ],
   "source": [
    "url = \"https://movie.naver.com/movie/search/result.nhn?query=\" + str(test_title[1])[2:-2]\n",
    "print(url)"
   ]
  },
  {
   "cell_type": "code",
   "execution_count": 59,
   "metadata": {
    "scrolled": true
   },
   "outputs": [
    {
     "ename": "IndexError",
     "evalue": "index 8588 is out of bounds for axis 0 with size 999",
     "output_type": "error",
     "traceback": [
      "\u001b[1;31m---------------------------------------------------------------------------\u001b[0m",
      "\u001b[1;31mIndexError\u001b[0m                                Traceback (most recent call last)",
      "\u001b[1;32m<ipython-input-59-f289560a3bc2>\u001b[0m in \u001b[0;36m<module>\u001b[1;34m\u001b[0m\n\u001b[0;32m      4\u001b[0m \u001b[0msoup\u001b[0m \u001b[1;33m=\u001b[0m \u001b[0mBeautifulSoup\u001b[0m\u001b[1;33m(\u001b[0m\u001b[0mres\u001b[0m\u001b[1;33m,\u001b[0m \u001b[1;34m'html.parser'\u001b[0m\u001b[1;33m)\u001b[0m\u001b[1;33m\u001b[0m\u001b[0m\n\u001b[0;32m      5\u001b[0m \u001b[0mrate\u001b[0m \u001b[1;33m=\u001b[0m \u001b[0msoup\u001b[0m\u001b[1;33m.\u001b[0m\u001b[0mselect_one\u001b[0m\u001b[1;33m(\u001b[0m\u001b[1;34m\"ul.search_list_1 > li:nth-of-type(1) > dl > dd.point > em.num\"\u001b[0m\u001b[1;33m)\u001b[0m\u001b[1;33m.\u001b[0m\u001b[0mstring\u001b[0m\u001b[1;33m\u001b[0m\u001b[0m\n\u001b[1;32m----> 6\u001b[1;33m \u001b[0mprint\u001b[0m\u001b[1;33m(\u001b[0m\u001b[0mtest_title\u001b[0m\u001b[1;33m[\u001b[0m\u001b[0mi\u001b[0m\u001b[1;33m]\u001b[0m \u001b[1;33m+\u001b[0m \u001b[1;34m\" : \"\u001b[0m\u001b[1;33m,\u001b[0m \u001b[0mrate\u001b[0m\u001b[1;33m)\u001b[0m\u001b[1;33m\u001b[0m\u001b[0m\n\u001b[0m",
      "\u001b[1;31mIndexError\u001b[0m: index 8588 is out of bounds for axis 0 with size 999"
     ]
    }
   ],
   "source": [
    "url = \"https://movie.naver.com/movie/search/result.nhn?query=\" + \"Leaving Las Vegas\"\n",
    "res = req.urlopen(url.replace(' ','%20'))\n",
    "\n",
    "soup = BeautifulSoup(res, 'html.parser')\n",
    "rate = soup.select_one(\"ul.search_list_1 > li:nth-of-type(1) > dl > dd.point > em.num\").string\n",
    "print(test_title[i] + \" : \", rate)"
   ]
  },
  {
   "cell_type": "code",
   "execution_count": null,
   "metadata": {},
   "outputs": [],
   "source": [
    "for i in range(len(test_title)) :\n",
    "    url = \"https://movie.naver.com/movie/search/result.nhn?query=\" + str(test_title[i])[2:-2]\n",
    "    res = req.urlopen(url.replace(' ','%20'))\n",
    "\n",
    "    soup = BeautifulSoup(res, 'html.parser')\n",
    "\n",
    "    rate = soup.select_one(\"ul.search_list_1 > li:nth-of-type(1) > dl > dd.point > em.num\").string\n",
    "    print(test_title[i] + \" : \", rate)"
   ]
  },
  {
   "cell_type": "code",
   "execution_count": null,
   "metadata": {},
   "outputs": [],
   "source": []
  },
  {
   "cell_type": "code",
   "execution_count": null,
   "metadata": {},
   "outputs": [],
   "source": []
  },
  {
   "cell_type": "code",
   "execution_count": null,
   "metadata": {},
   "outputs": [],
   "source": []
  },
  {
   "cell_type": "code",
   "execution_count": null,
   "metadata": {},
   "outputs": [],
   "source": []
  }
 ],
 "metadata": {
  "kernelspec": {
   "display_name": "Python 3",
   "language": "python",
   "name": "python3"
  },
  "language_info": {
   "codemirror_mode": {
    "name": "ipython",
    "version": 3
   },
   "file_extension": ".py",
   "mimetype": "text/x-python",
   "name": "python",
   "nbconvert_exporter": "python",
   "pygments_lexer": "ipython3",
   "version": "3.6.5"
  }
 },
 "nbformat": 4,
 "nbformat_minor": 2
}
